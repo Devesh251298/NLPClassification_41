{
 "cells": [
  {
   "cell_type": "code",
   "execution_count": 2,
   "metadata": {},
   "outputs": [],
   "source": [
    "import pandas as pd\n",
    "import matplotlib.pyplot as plt\n",
    "import math\n"
   ]
  },
  {
   "cell_type": "code",
   "execution_count": 3,
   "metadata": {},
   "outputs": [],
   "source": [
    "data_folder = \"dontpatronizeme_v1.4/\"\n",
    "\n",
    "pcl_df = pd.read_csv(f\"{data_folder}/dontpatronizeme_pcl.tsv\", sep='\\t', on_bad_lines='skip')\n",
    "cat_df = pd.read_csv(f\"{data_folder}/dontpatronizeme_categories.tsv\", sep='\\t', on_bad_lines='skip')\n",
    "\n",
    "def load_and_preprocess_data(path, col_names):\n",
    "\n",
    "    original_data=[]\n",
    "\n",
    "    with open (path) as data:\n",
    "        for line in data:\n",
    "            original_data.append(line)\n",
    "            \n",
    "    print('The original data contains ', len(original_data), ' lines.')\n",
    "    \n",
    "    lines = []\n",
    "\n",
    "    for line in original_data:\n",
    "        elements=line.strip().split('\\t')\n",
    "        lines.append(elements)\n",
    "    \n",
    "    df = pd.DataFrame(lines, columns = col_names)\n",
    "\n",
    "    # remove the 0-3 rows since they don't contain any data\n",
    "    df = df.iloc[4:].reset_index(drop=True)\n",
    "\n",
    "    return df\n",
    "\n"
   ]
  },
  {
   "cell_type": "code",
   "execution_count": 8,
   "metadata": {},
   "outputs": [
    {
     "name": "stdout",
     "output_type": "stream",
     "text": [
      "The original data contains  10473  lines.\n",
      "Word Count:\n",
      "Character Count:\n"
     ]
    },
    {
     "data": {
      "text/plain": [
       "count    10469.000000\n",
       "mean       267.582864\n",
       "std        160.209494\n",
       "min          0.000000\n",
       "25%        169.000000\n",
       "50%        233.000000\n",
       "75%        330.000000\n",
       "max       5501.000000\n",
       "Name: char_count, dtype: float64"
      ]
     },
     "execution_count": 8,
     "metadata": {},
     "output_type": "execute_result"
    }
   ],
   "source": [
    "pcl_cols = [\"par_id\", \"art_id\", \"keyword\", \"country_code\", \"text\", \"label\"]\n",
    "pcl_df = load_and_preprocess_data(f\"{data_folder}/dontpatronizeme_pcl.tsv\", pcl_cols)\n",
    "\n",
    "pcl_df[\"label\"] = pcl_df[\"label\"].astype(int)\n",
    "# create class (1 for PCL 0 for non-PCL) based on label \n",
    "pcl_df[\"class\"] = pcl_df.apply(lambda x: 1 if x[\"label\"] > 1 else 0, axis=1)\n",
    "\n",
    "# get length of words in text\n",
    "print('Word Count:')\n",
    "pcl_df[\"word_count\"] = pcl_df[\"text\"].apply(lambda x: len(x.split()))\n",
    "print(pcl_df[\"word_count\"].describe())\n",
    "# get length of characters in text\n",
    "print('Character Count:')\n",
    "pcl_df[\"char_count\"] = pcl_df[\"text\"].apply(lambda x: len(x))\n",
    "pcl_df[\"char_count\"].describe()\n",
    "\n",
    "\n"
   ]
  },
  {
   "cell_type": "code",
   "execution_count": null,
   "metadata": {},
   "outputs": [],
   "source": []
  }
 ],
 "metadata": {
  "kernelspec": {
   "display_name": "Python 3",
   "language": "python",
   "name": "python3"
  },
  "language_info": {
   "codemirror_mode": {
    "name": "ipython",
    "version": 3
   },
   "file_extension": ".py",
   "mimetype": "text/x-python",
   "name": "python",
   "nbconvert_exporter": "python",
   "pygments_lexer": "ipython3",
   "version": "3.8.10"
  },
  "orig_nbformat": 4
 },
 "nbformat": 4,
 "nbformat_minor": 2
}
