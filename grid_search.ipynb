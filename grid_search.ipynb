{
 "cells": [
  {
   "cell_type": "markdown",
   "metadata": {},
   "source": [
    "## Setup"
   ]
  },
  {
   "cell_type": "code",
   "execution_count": null,
   "metadata": {},
   "outputs": [
    {
     "name": "stdout",
     "output_type": "stream",
     "text": [
      "Looking in indexes: https://pypi.org/simple, https://us-python.pkg.dev/colab-wheels/public/simple/\n",
      "Collecting transformers\n",
      "  Downloading transformers-4.26.1-py3-none-any.whl (6.3 MB)\n",
      "\u001b[2K     \u001b[90m━━━━━━━━━━━━━━━━━━━━━━━━━━━━━━━━━━━━━━━━\u001b[0m \u001b[32m6.3/6.3 MB\u001b[0m \u001b[31m62.8 MB/s\u001b[0m eta \u001b[36m0:00:00\u001b[0m\n",
      "\u001b[?25hRequirement already satisfied: torch in /usr/local/lib/python3.8/dist-packages (1.13.1+cu116)\n",
      "Collecting datasets\n",
      "  Downloading datasets-2.10.1-py3-none-any.whl (469 kB)\n",
      "\u001b[2K     \u001b[90m━━━━━━━━━━━━━━━━━━━━━━━━━━━━━━━━━━━━━━\u001b[0m \u001b[32m469.0/469.0 KB\u001b[0m \u001b[31m31.0 MB/s\u001b[0m eta \u001b[36m0:00:00\u001b[0m\n",
      "\u001b[?25hCollecting ray[tune]\n",
      "  Downloading ray-2.3.0-cp38-cp38-manylinux2014_x86_64.whl (58.6 MB)\n",
      "\u001b[2K     \u001b[90m━━━━━━━━━━━━━━━━━━━━━━━━━━━━━━━━━━━━━━━━\u001b[0m \u001b[32m58.6/58.6 MB\u001b[0m \u001b[31m26.8 MB/s\u001b[0m eta \u001b[36m0:00:00\u001b[0m\n",
      "\u001b[?25hRequirement already satisfied: filelock in /usr/local/lib/python3.8/dist-packages (from transformers) (3.9.0)\n",
      "Requirement already satisfied: numpy>=1.17 in /usr/local/lib/python3.8/dist-packages (from transformers) (1.22.4)\n",
      "Requirement already satisfied: requests in /usr/local/lib/python3.8/dist-packages (from transformers) (2.25.1)\n",
      "Requirement already satisfied: tqdm>=4.27 in /usr/local/lib/python3.8/dist-packages (from transformers) (4.64.1)\n",
      "Collecting tokenizers!=0.11.3,<0.14,>=0.11.1\n",
      "  Downloading tokenizers-0.13.2-cp38-cp38-manylinux_2_17_x86_64.manylinux2014_x86_64.whl (7.6 MB)\n",
      "\u001b[2K     \u001b[90m━━━━━━━━━━━━━━━━━━━━━━━━━━━━━━━━━━━━━━━━\u001b[0m \u001b[32m7.6/7.6 MB\u001b[0m \u001b[31m83.5 MB/s\u001b[0m eta \u001b[36m0:00:00\u001b[0m\n",
      "\u001b[?25hRequirement already satisfied: packaging>=20.0 in /usr/local/lib/python3.8/dist-packages (from transformers) (23.0)\n",
      "Requirement already satisfied: pyyaml>=5.1 in /usr/local/lib/python3.8/dist-packages (from transformers) (6.0)\n",
      "Requirement already satisfied: regex!=2019.12.17 in /usr/local/lib/python3.8/dist-packages (from transformers) (2022.6.2)\n",
      "Collecting huggingface-hub<1.0,>=0.11.0\n",
      "  Downloading huggingface_hub-0.12.1-py3-none-any.whl (190 kB)\n",
      "\u001b[2K     \u001b[90m━━━━━━━━━━━━━━━━━━━━━━━━━━━━━━━━━━━━━━\u001b[0m \u001b[32m190.3/190.3 KB\u001b[0m \u001b[31m13.8 MB/s\u001b[0m eta \u001b[36m0:00:00\u001b[0m\n",
      "\u001b[?25hRequirement already satisfied: typing-extensions in /usr/local/lib/python3.8/dist-packages (from torch) (4.5.0)\n",
      "Requirement already satisfied: fsspec[http]>=2021.11.1 in /usr/local/lib/python3.8/dist-packages (from datasets) (2023.1.0)\n",
      "Requirement already satisfied: pyarrow>=6.0.0 in /usr/local/lib/python3.8/dist-packages (from datasets) (9.0.0)\n",
      "Requirement already satisfied: aiohttp in /usr/local/lib/python3.8/dist-packages (from datasets) (3.8.4)\n",
      "Collecting multiprocess\n",
      "  Downloading multiprocess-0.70.14-py38-none-any.whl (132 kB)\n",
      "\u001b[2K     \u001b[90m━━━━━━━━━━━━━━━━━━━━━━━━━━━━━━━━━━━━━━\u001b[0m \u001b[32m132.0/132.0 KB\u001b[0m \u001b[31m10.5 MB/s\u001b[0m eta \u001b[36m0:00:00\u001b[0m\n",
      "\u001b[?25hCollecting responses<0.19\n",
      "  Downloading responses-0.18.0-py3-none-any.whl (38 kB)\n",
      "Collecting dill<0.3.7,>=0.3.0\n",
      "  Downloading dill-0.3.6-py3-none-any.whl (110 kB)\n",
      "\u001b[2K     \u001b[90m━━━━━━━━━━━━━━━━━━━━━━━━━━━━━━━━━━━━━━━\u001b[0m \u001b[32m110.5/110.5 KB\u001b[0m \u001b[31m7.7 MB/s\u001b[0m eta \u001b[36m0:00:00\u001b[0m\n",
      "\u001b[?25hRequirement already satisfied: pandas in /usr/local/lib/python3.8/dist-packages (from datasets) (1.3.5)\n",
      "Collecting xxhash\n",
      "  Downloading xxhash-3.2.0-cp38-cp38-manylinux_2_17_x86_64.manylinux2014_x86_64.whl (213 kB)\n",
      "\u001b[2K     \u001b[90m━━━━━━━━━━━━━━━━━━━━━━━━━━━━━━━━━━━━━━\u001b[0m \u001b[32m213.0/213.0 KB\u001b[0m \u001b[31m12.6 MB/s\u001b[0m eta \u001b[36m0:00:00\u001b[0m\n",
      "\u001b[?25hRequirement already satisfied: attrs in /usr/local/lib/python3.8/dist-packages (from ray[tune]) (22.2.0)\n",
      "Collecting virtualenv>=20.0.24\n",
      "  Downloading virtualenv-20.20.0-py3-none-any.whl (8.7 MB)\n",
      "\u001b[2K     \u001b[90m━━━━━━━━━━━━━━━━━━━━━━━━━━━━━━━━━━━━━━━━\u001b[0m \u001b[32m8.7/8.7 MB\u001b[0m \u001b[31m97.0 MB/s\u001b[0m eta \u001b[36m0:00:00\u001b[0m\n",
      "\u001b[?25hRequirement already satisfied: aiosignal in /usr/local/lib/python3.8/dist-packages (from ray[tune]) (1.3.1)\n",
      "Requirement already satisfied: protobuf!=3.19.5,>=3.15.3 in /usr/local/lib/python3.8/dist-packages (from ray[tune]) (3.19.6)\n",
      "Requirement already satisfied: jsonschema in /usr/local/lib/python3.8/dist-packages (from ray[tune]) (4.3.3)\n",
      "Requirement already satisfied: click>=7.0 in /usr/local/lib/python3.8/dist-packages (from ray[tune]) (8.1.3)\n",
      "Requirement already satisfied: grpcio>=1.32.0 in /usr/local/lib/python3.8/dist-packages (from ray[tune]) (1.51.3)\n",
      "Requirement already satisfied: frozenlist in /usr/local/lib/python3.8/dist-packages (from ray[tune]) (1.3.3)\n",
      "Requirement already satisfied: msgpack<2.0.0,>=1.0.0 in /usr/local/lib/python3.8/dist-packages (from ray[tune]) (1.0.4)\n",
      "Collecting tensorboardX>=1.9\n",
      "  Downloading tensorboardX-2.6-py2.py3-none-any.whl (114 kB)\n",
      "\u001b[2K     \u001b[90m━━━━━━━━━━━━━━━━━━━━━━━━━━━━━━━━━━━━━━\u001b[0m \u001b[32m114.5/114.5 KB\u001b[0m \u001b[31m15.1 MB/s\u001b[0m eta \u001b[36m0:00:00\u001b[0m\n",
      "\u001b[?25hRequirement already satisfied: tabulate in /usr/local/lib/python3.8/dist-packages (from ray[tune]) (0.8.10)\n",
      "Requirement already satisfied: yarl<2.0,>=1.0 in /usr/local/lib/python3.8/dist-packages (from aiohttp->datasets) (1.8.2)\n",
      "Requirement already satisfied: async-timeout<5.0,>=4.0.0a3 in /usr/local/lib/python3.8/dist-packages (from aiohttp->datasets) (4.0.2)\n",
      "Requirement already satisfied: multidict<7.0,>=4.5 in /usr/local/lib/python3.8/dist-packages (from aiohttp->datasets) (6.0.4)\n",
      "Requirement already satisfied: charset-normalizer<4.0,>=2.0 in /usr/local/lib/python3.8/dist-packages (from aiohttp->datasets) (3.0.1)\n",
      "Requirement already satisfied: chardet<5,>=3.0.2 in /usr/local/lib/python3.8/dist-packages (from requests->transformers) (4.0.0)\n",
      "Requirement already satisfied: urllib3<1.27,>=1.21.1 in /usr/local/lib/python3.8/dist-packages (from requests->transformers) (1.26.14)\n",
      "Requirement already satisfied: idna<3,>=2.5 in /usr/local/lib/python3.8/dist-packages (from requests->transformers) (2.10)\n",
      "Requirement already satisfied: certifi>=2017.4.17 in /usr/local/lib/python3.8/dist-packages (from requests->transformers) (2022.12.7)\n",
      "Requirement already satisfied: platformdirs<4,>=2.4 in /usr/local/lib/python3.8/dist-packages (from virtualenv>=20.0.24->ray[tune]) (3.0.0)\n",
      "Collecting distlib<1,>=0.3.6\n",
      "  Downloading distlib-0.3.6-py2.py3-none-any.whl (468 kB)\n",
      "\u001b[2K     \u001b[90m━━━━━━━━━━━━━━━━━━━━━━━━━━━━━━━━━━━━━━\u001b[0m \u001b[32m468.5/468.5 KB\u001b[0m \u001b[31m52.4 MB/s\u001b[0m eta \u001b[36m0:00:00\u001b[0m\n",
      "\u001b[?25hRequirement already satisfied: pyrsistent!=0.17.0,!=0.17.1,!=0.17.2,>=0.14.0 in /usr/local/lib/python3.8/dist-packages (from jsonschema->ray[tune]) (0.19.3)\n",
      "Requirement already satisfied: importlib-resources>=1.4.0 in /usr/local/lib/python3.8/dist-packages (from jsonschema->ray[tune]) (5.12.0)\n",
      "Requirement already satisfied: python-dateutil>=2.7.3 in /usr/local/lib/python3.8/dist-packages (from pandas->datasets) (2.8.2)\n",
      "Requirement already satisfied: pytz>=2017.3 in /usr/local/lib/python3.8/dist-packages (from pandas->datasets) (2022.7.1)\n",
      "Requirement already satisfied: zipp>=3.1.0 in /usr/local/lib/python3.8/dist-packages (from importlib-resources>=1.4.0->jsonschema->ray[tune]) (3.15.0)\n",
      "Requirement already satisfied: six>=1.5 in /usr/local/lib/python3.8/dist-packages (from python-dateutil>=2.7.3->pandas->datasets) (1.15.0)\n",
      "Installing collected packages: tokenizers, distlib, xxhash, virtualenv, tensorboardX, dill, responses, multiprocess, huggingface-hub, transformers, ray, datasets\n",
      "Successfully installed datasets-2.10.1 dill-0.3.6 distlib-0.3.6 huggingface-hub-0.12.1 multiprocess-0.70.14 ray-2.3.0 responses-0.18.0 tensorboardX-2.6 tokenizers-0.13.2 transformers-4.26.1 virtualenv-20.20.0 xxhash-3.2.0\n"
     ]
    }
   ],
   "source": [
    "!pip install transformers torch datasets \"ray[tune]\""
   ]
  },
  {
   "cell_type": "code",
   "execution_count": null,
   "metadata": {},
   "outputs": [
    {
     "name": "stdout",
     "output_type": "stream",
     "text": [
      "The google.colab.data_table extension is already loaded. To reload it, use:\n",
      "  %reload_ext google.colab.data_table\n",
      "Mounted at /content/drive/\n"
     ]
    }
   ],
   "source": [
    "from pathlib import Path\n",
    "\n",
    "WORKING_ENV = 'COLAB' # Can be LABS, COLAB or PAPERSPACE\n",
    "\n",
    "assert WORKING_ENV in ['COLAB', 'PAPERSPACE']\n",
    "\n",
    "if WORKING_ENV == 'COLAB':\n",
    "    from google.colab import drive\n",
    "    %load_ext google.colab.data_table\n",
    "    content_path = '/content/drive/MyDrive/'\n",
    "    drive.mount('/content/drive/', force_remount=True) # Outputs will be saved in your google drive\n",
    "\n",
    "else: # Using Paperspace\n",
    "    # Paperspace does not properly render animated progress bars\n",
    "    # Strongly recommend using the JupyterLab UI instead of theirs\n",
    "    !pip install ipywidgets \n",
    "    content_path = '/notebooks'\n",
    "\n",
    "content_path = Path(content_path)"
   ]
  },
  {
   "cell_type": "code",
   "execution_count": null,
   "metadata": {},
   "outputs": [],
   "source": [
    "data_folder = f\"{content_path}/NLP/data\"\n",
    "results_folder = f\"{content_path}/NLP/results\"\n",
    "logging_folder = f\"{content_path}/NLP/logs\"\n",
    "hp_search_folder = f\"{content_path}/NLP/hp_search\""
   ]
  },
  {
   "cell_type": "code",
   "execution_count": null,
   "metadata": {},
   "outputs": [],
   "source": [
    "import pandas as pd\n",
    "from transformers import Trainer, TrainingArguments, DataCollatorWithPadding, AutoModelForSequenceClassification, DebertaTokenizer\n",
    "import torch.nn as nn\n",
    "import torch\n",
    "import datasets\n",
    "# from torch.utils.data import Dataset, DataLoader\n",
    "import numpy as np\n",
    "from sklearn.metrics import accuracy_score, precision_recall_fscore_support\n",
    "from tqdm import tqdm\n",
    "import os\n",
    "import itertools"
   ]
  },
  {
   "cell_type": "code",
   "execution_count": null,
   "metadata": {},
   "outputs": [],
   "source": [
    "# from ray.tune.suggest.hyperopt import HyperOptSearch\n",
    "# from ray.tune.schedulers import ASHAScheduler, PopulationBasedTraining\n",
    "# from ray.tune import CLIReporter\n",
    "# from ray import tune"
   ]
  },
  {
   "cell_type": "code",
   "execution_count": null,
   "metadata": {},
   "outputs": [
    {
     "data": {
      "application/vnd.google.colaboratory.intrinsic+json": {
       "type": "string"
      },
      "text/plain": [
       "'cuda'"
      ]
     },
     "metadata": {},
     "output_type": "display_data"
    }
   ],
   "source": [
    "device = 'cuda' if torch.cuda.is_available() else 'cpu'\n",
    "device"
   ]
  },
  {
   "cell_type": "markdown",
   "metadata": {},
   "source": [
    "## Load data"
   ]
  },
  {
   "cell_type": "code",
   "execution_count": null,
   "metadata": {},
   "outputs": [],
   "source": [
    "pcl_df_train_train = pd.read_csv(f\"{data_folder}/pcl_df_train_train_aug.csv\")\n",
    "pcl_df_train_dev = pd.read_csv(f\"{data_folder}/pcl_df_train_dev_preprocessed.csv\")\n",
    "pcl_df_dev = pd.read_csv(f\"{data_folder}/pcl_df_dev_preprocessed.csv\")"
   ]
  },
  {
   "cell_type": "code",
   "execution_count": null,
   "metadata": {},
   "outputs": [
    {
     "data": {
      "text/plain": [
       "Index(['par_id', 'art_id', 'keyword', 'country_code', 'text', 'label', 'class',\n",
       "       'preprocessed_text'],\n",
       "      dtype='object')"
      ]
     },
     "metadata": {},
     "output_type": "display_data"
    }
   ],
   "source": [
    "pcl_df_train_train.columns"
   ]
  },
  {
   "cell_type": "code",
   "execution_count": null,
   "metadata": {},
   "outputs": [],
   "source": [
    "pcl_df_train_train = pcl_df_train_train[['text', 'class']]\n",
    "pcl_df_train_dev = pcl_df_train_dev[['text', 'class']]\n",
    "pcl_df_dev = pcl_df_dev[['text', 'class']]"
   ]
  },
  {
   "cell_type": "code",
   "execution_count": null,
   "metadata": {},
   "outputs": [],
   "source": [
    "pcl_df_train_train = datasets.Dataset.from_pandas(pcl_df_train_train)\n",
    "pcl_df_train_dev = datasets.Dataset.from_pandas(pcl_df_train_dev)\n",
    "pcl_df_dev = datasets.Dataset.from_pandas(pcl_df_dev)"
   ]
  },
  {
   "cell_type": "code",
   "execution_count": null,
   "metadata": {},
   "outputs": [
    {
     "data": {
      "text/plain": [
       "datasets.arrow_dataset.Dataset"
      ]
     },
     "metadata": {},
     "output_type": "display_data"
    }
   ],
   "source": [
    "type(pcl_df_train_train)"
   ]
  },
  {
   "cell_type": "code",
   "execution_count": null,
   "metadata": {},
   "outputs": [],
   "source": []
  },
  {
   "attachments": {},
   "cell_type": "markdown",
   "metadata": {},
   "source": [
    "### Helper functions"
   ]
  },
  {
   "cell_type": "code",
   "execution_count": null,
   "metadata": {},
   "outputs": [],
   "source": [
    "id2label = {0: \"NEGATIVE\", 1: \"POSITIVE\"}\n",
    "label2id = {\"NEGATIVE\": 0, \"POSITIVE\": 1}"
   ]
  },
  {
   "cell_type": "code",
   "execution_count": null,
   "metadata": {},
   "outputs": [],
   "source": [
    "def model_init():\n",
    "\n",
    "    model = AutoModelForSequenceClassification.from_pretrained(\n",
    "        \"microsoft/deberta-base\", \n",
    "        num_labels=2, \n",
    "        id2label=id2label, \n",
    "        label2id=label2id,\n",
    "        sinusoidal_pos_embds = True\n",
    "    )\n",
    "    \n",
    "    model.classifier = torch.nn.Sequential(\n",
    "        torch.nn.Linear(768, 1024),\n",
    "        torch.nn.BatchNorm1d(1024),\n",
    "        torch.nn.Dropout(0.2),\n",
    "        torch.nn.ReLU(),\n",
    "        torch.nn.Linear(1024, 256),\n",
    "        torch.nn.BatchNorm1d(256),\n",
    "        torch.nn.Dropout(0.2),\n",
    "        torch.nn.ReLU(),\n",
    "        torch.nn.Linear(256, 64),\n",
    "        torch.nn.BatchNorm1d(64),\n",
    "        torch.nn.Dropout(0.2),\n",
    "        torch.nn.ReLU(),  \n",
    "        torch.nn.Linear(64, 2),\n",
    "        torch.nn.Softmax(dim=-1)\n",
    "    )\n",
    "\n",
    "    return model\n",
    "\n",
    "\n",
    "tokenizer = DebertaTokenizer.from_pretrained(\"microsoft/deberta-base\")"
   ]
  },
  {
   "cell_type": "code",
   "execution_count": null,
   "metadata": {},
   "outputs": [],
   "source": [
    "def tokenization(batched_text):\n",
    "    return tokenizer(\n",
    "        batched_text['text'], \n",
    "        padding = 'max_length', \n",
    "        truncation=True, \n",
    "        max_length = 512\n",
    "    )"
   ]
  },
  {
   "cell_type": "code",
   "execution_count": null,
   "metadata": {},
   "outputs": [],
   "source": [
    "# define accuracy metrics\n",
    "def compute_metrics(pred):\n",
    "    # labels = pred.label_ids\n",
    "    # preds = pred.predictions.argmax(-1)\n",
    "    preds, labels = pred\n",
    "    preds = np.argmax(preds, axis=1)\n",
    "    precision, recall, f1, _ = precision_recall_fscore_support(\n",
    "        labels, preds, average='binary'\n",
    "    )\n",
    "    acc = accuracy_score(labels, preds)\n",
    "    return {\n",
    "        'accuracy': acc,\n",
    "        'f1': f1,\n",
    "        'precision': precision,\n",
    "        'recall': recall\n",
    "    }\n"
   ]
  },
  {
   "cell_type": "code",
   "execution_count": null,
   "metadata": {},
   "outputs": [],
   "source": []
  },
  {
   "cell_type": "markdown",
   "metadata": {},
   "source": [
    "### Tokenization"
   ]
  },
  {
   "cell_type": "code",
   "execution_count": null,
   "metadata": {},
   "outputs": [
    {
     "data": {
      "application/vnd.jupyter.widget-view+json": {
       "model_id": "9992f1d71f9d4e2890b1fbc217cc2c46",
       "version_major": 2,
       "version_minor": 0
      },
      "text/plain": [
       "Map:   0%|          | 0/6700 [00:00<?, ? examples/s]"
      ]
     },
     "metadata": {},
     "output_type": "display_data"
    },
    {
     "data": {
      "application/vnd.jupyter.widget-view+json": {
       "model_id": "092d72e6f2b0416d9214f3fe971cc0f8",
       "version_major": 2,
       "version_minor": 0
      },
      "text/plain": [
       "Map:   0%|          | 0/1675 [00:00<?, ? examples/s]"
      ]
     },
     "metadata": {},
     "output_type": "display_data"
    },
    {
     "data": {
      "application/vnd.jupyter.widget-view+json": {
       "model_id": "2195df2fffdc4655911b90bf35e2288c",
       "version_major": 2,
       "version_minor": 0
      },
      "text/plain": [
       "Map:   0%|          | 0/2094 [00:00<?, ? examples/s]"
      ]
     },
     "metadata": {},
     "output_type": "display_data"
    },
    {
     "data": {
      "application/vnd.jupyter.widget-view+json": {
       "model_id": "c6105697dd8d486e9fbdcfb89f2dccf8",
       "version_major": 2,
       "version_minor": 0
      },
      "text/plain": [
       "Map:   0%|          | 0/1675 [00:00<?, ? examples/s]"
      ]
     },
     "metadata": {},
     "output_type": "display_data"
    }
   ],
   "source": [
    "pcl_df_train_train = pcl_df_train_train.map(\n",
    "    tokenization, batched = True, batch_size = len(pcl_df_train_train)\n",
    ")\n",
    "pcl_df_train_dev = pcl_df_train_dev.map(\n",
    "    tokenization, batched = True, batch_size = len(pcl_df_train_dev)\n",
    ")\n",
    "\n",
    "pcl_df_dev = pcl_df_dev.map(\n",
    "    tokenization, batched = True, batch_size = len(pcl_df_dev)\n",
    ")\n"
   ]
  },
  {
   "cell_type": "code",
   "execution_count": null,
   "metadata": {},
   "outputs": [],
   "source": [
    "pcl_df_train_train.set_format(\n",
    "    'torch', columns=['input_ids', 'attention_mask', 'class']\n",
    ")\n",
    "pcl_df_train_dev.set_format(\n",
    "    'torch', columns=['input_ids', 'attention_mask', 'class']\n",
    ")\n",
    "pcl_df_dev.set_format(\n",
    "    'torch', columns=['input_ids', 'attention_mask', 'class']\n",
    ")"
   ]
  },
  {
   "cell_type": "code",
   "execution_count": null,
   "metadata": {},
   "outputs": [],
   "source": [
    "pcl_df_train_train = pcl_df_train_train.rename_column(\"class\", \"label\")\n",
    "pcl_df_train_dev = pcl_df_train_dev.rename_column(\"class\", \"label\")\n",
    "pcl_df_dev = pcl_df_dev.rename_column(\"class\", \"label\")"
   ]
  },
  {
   "cell_type": "code",
   "execution_count": null,
   "metadata": {},
   "outputs": [],
   "source": []
  },
  {
   "attachments": {},
   "cell_type": "markdown",
   "metadata": {},
   "source": [
    "### Grid search"
   ]
  },
  {
   "cell_type": "code",
   "execution_count": null,
   "metadata": {},
   "outputs": [],
   "source": [
    "learning_rate_vals = [1e-5, 2e-5]\n",
    "weight_decay_vals = [0.1, 0.01]\n",
    "per_device_train_batch_size_vals = [16, 32]\n",
    "warmup_steps_vals = [0, 200]"
   ]
  },
  {
   "cell_type": "code",
   "execution_count": null,
   "metadata": {},
   "outputs": [],
   "source": [
    "experiment_lr = []\n",
    "experiment_wd = []\n",
    "experiment_train_batch_size = []\n",
    "experiment_warmup = []\n",
    "\n",
    "experiment_acc = []\n",
    "experiment_precision = []\n",
    "experiment_recall = []\n",
    "experiment_f1 = []\n",
    "\n",
    "for learning_rate, weight_decay, per_device_train_batch_size, warmup_steps in tqdm(\n",
    "    list(\n",
    "    itertools.product(\n",
    "    learning_rate_vals, weight_decay_vals, \n",
    "    per_device_train_batch_size_vals, warmup_steps_vals)\n",
    "    )):\n",
    "    \n",
    "    training_args = TrainingArguments(\n",
    "        output_dir=hp_search_folder, \n",
    "        learning_rate=learning_rate,  # config\n",
    "        warmup_steps=warmup_steps, #config\n",
    "        weight_decay=weight_decay,  # config\n",
    "        per_device_train_batch_size=per_device_train_batch_size,  # config\n",
    "        num_train_epochs=10,\n",
    "        per_device_eval_batch_size=16, \n",
    "        evaluation_strategy=\"epoch\",\n",
    "        save_strategy=\"epoch\",\n",
    "        load_best_model_at_end=True,\n",
    "        gradient_accumulation_steps=8,\n",
    "        logging_steps=100,\n",
    "        logging_dir=logging_folder,\n",
    "    )\n",
    "\n",
    "    trainer = Trainer(\n",
    "        args=training_args,\n",
    "        tokenizer=tokenizer,\n",
    "        train_dataset=pcl_df_train_train,\n",
    "        eval_dataset=pcl_df_train_dev,\n",
    "        model_init=model_init,\n",
    "        compute_metrics=compute_metrics,\n",
    "    )\n",
    "\n",
    "    trainer.train()\n",
    "\n",
    "    metrics = trainer.evaluate()\n",
    "\n",
    "    experiment_lr.append(learning_rate)\n",
    "    experiment_wd.append(weight_decay)\n",
    "    experiment_train_batch_size.append(per_device_train_batch_size)\n",
    "    experiment_warmup.append(warmup_steps)\n",
    "    experiment_acc.append(metrics['eval_accuracy'])\n",
    "    experiment_precision.append(metrics['eval_precision'])\n",
    "    experiment_recall.append(metrics['eval_recall'])\n",
    "    experiment_f1.append(metrics['eval_f1'])\n"
   ]
  },
  {
   "cell_type": "code",
   "execution_count": null,
   "metadata": {},
   "outputs": [],
   "source": [
    "grid_search_results = pd.DataFrame({\n",
    "    'learning_rate': experiment_lr,\n",
    "    'weight_decay': experiment_wd,\n",
    "    'per_device_train_batch_size': experiment_train_batch_size,\n",
    "    'warmup_steps': experiment_warmup,\n",
    "    'accuracy': experiment_acc,\n",
    "    'precision': experiment_precision,\n",
    "    'recall': experiment_recall,\n",
    "    'f1': experiment_f1\n",
    "})"
   ]
  },
  {
   "cell_type": "code",
   "execution_count": null,
   "metadata": {},
   "outputs": [],
   "source": [
    "# get the best hyperparameters with highest f1 score\n",
    "grid_search_results = grid_search_results.sort_values(by='f1', ascending=False)\n",
    "grid_search_results.to_csv(f\"{results_folder}_grid_search_results.csv\", index=False)\n",
    "\n",
    "# get the first row of the dataframe\n",
    "best_hyperparameters = grid_search_results.iloc[0]\n",
    "\n",
    "# get the best hyperparameters\n",
    "best_learning_rate = best_hyperparameters['learning_rate']\n",
    "best_weight_decay = best_hyperparameters['weight_decay']\n",
    "best_per_device_train_batch_size = int(best_hyperparameters['per_device_train_batch_size'])\n",
    "best_warmup_steps = int(best_hyperparameters['warmup_steps'])"
   ]
  },
  {
   "cell_type": "code",
   "execution_count": null,
   "metadata": {},
   "outputs": [],
   "source": [
    "best_hyperparameters"
   ]
  },
  {
   "cell_type": "code",
   "execution_count": null,
   "metadata": {},
   "outputs": [],
   "source": []
  },
  {
   "cell_type": "markdown",
   "metadata": {},
   "source": [
    "### Train with best hyperparameters on the entire train data"
   ]
  },
  {
   "cell_type": "code",
   "execution_count": null,
   "metadata": {},
   "outputs": [
    {
     "name": "stderr",
     "output_type": "stream",
     "text": [
      "loading configuration file config.json from cache at /root/.cache/huggingface/hub/models--distilbert-base-uncased/snapshots/1c4513b2eedbda136f57676a34eea67aba266e5c/config.json\n",
      "Model config DistilBertConfig {\n",
      "  \"_name_or_path\": \"distilbert-base-uncased\",\n",
      "  \"activation\": \"gelu\",\n",
      "  \"architectures\": [\n",
      "    \"DistilBertForMaskedLM\"\n",
      "  ],\n",
      "  \"attention_dropout\": 0.1,\n",
      "  \"dim\": 768,\n",
      "  \"dropout\": 0.1,\n",
      "  \"hidden_dim\": 3072,\n",
      "  \"initializer_range\": 0.02,\n",
      "  \"max_position_embeddings\": 512,\n",
      "  \"model_type\": \"distilbert\",\n",
      "  \"n_heads\": 12,\n",
      "  \"n_layers\": 6,\n",
      "  \"pad_token_id\": 0,\n",
      "  \"qa_dropout\": 0.1,\n",
      "  \"seq_classif_dropout\": 0.2,\n",
      "  \"sinusoidal_pos_embds\": false,\n",
      "  \"tie_weights_\": true,\n",
      "  \"transformers_version\": \"4.26.1\",\n",
      "  \"vocab_size\": 30522\n",
      "}\n",
      "\n",
      "loading file vocab.txt from cache at /root/.cache/huggingface/hub/models--distilbert-base-uncased/snapshots/1c4513b2eedbda136f57676a34eea67aba266e5c/vocab.txt\n",
      "loading file tokenizer.json from cache at /root/.cache/huggingface/hub/models--distilbert-base-uncased/snapshots/1c4513b2eedbda136f57676a34eea67aba266e5c/tokenizer.json\n",
      "loading file added_tokens.json from cache at None\n",
      "loading file special_tokens_map.json from cache at None\n",
      "loading file tokenizer_config.json from cache at /root/.cache/huggingface/hub/models--distilbert-base-uncased/snapshots/1c4513b2eedbda136f57676a34eea67aba266e5c/tokenizer_config.json\n",
      "loading configuration file config.json from cache at /root/.cache/huggingface/hub/models--distilbert-base-uncased/snapshots/1c4513b2eedbda136f57676a34eea67aba266e5c/config.json\n",
      "Model config DistilBertConfig {\n",
      "  \"_name_or_path\": \"distilbert-base-uncased\",\n",
      "  \"activation\": \"gelu\",\n",
      "  \"architectures\": [\n",
      "    \"DistilBertForMaskedLM\"\n",
      "  ],\n",
      "  \"attention_dropout\": 0.1,\n",
      "  \"dim\": 768,\n",
      "  \"dropout\": 0.1,\n",
      "  \"hidden_dim\": 3072,\n",
      "  \"initializer_range\": 0.02,\n",
      "  \"max_position_embeddings\": 512,\n",
      "  \"model_type\": \"distilbert\",\n",
      "  \"n_heads\": 12,\n",
      "  \"n_layers\": 6,\n",
      "  \"pad_token_id\": 0,\n",
      "  \"qa_dropout\": 0.1,\n",
      "  \"seq_classif_dropout\": 0.2,\n",
      "  \"sinusoidal_pos_embds\": false,\n",
      "  \"tie_weights_\": true,\n",
      "  \"transformers_version\": \"4.26.1\",\n",
      "  \"vocab_size\": 30522\n",
      "}\n",
      "\n"
     ]
    }
   ],
   "source": [
    "# hyperparameters\n",
    "lr = best_learning_rate\n",
    "weight_decay = best_weight_decay\n",
    "train_batch_size = best_per_device_train_batch_size\n",
    "warmup_steps = best_warmup_steps\n",
    "eval_batch_size = 16\n",
    "gradient_accumulation_steps = 8\n",
    "logging_steps = 100"
   ]
  },
  {
   "cell_type": "code",
   "execution_count": null,
   "metadata": {},
   "outputs": [
    {
     "name": "stderr",
     "output_type": "stream",
     "text": [
      "PyTorch: setting up devices\n",
      "The default value for the training argument `--report_to` will change in v5 (from all installed integrations to none). In v5, you will need to use `--report_to all` to get the same behavior as now. You should start updating your code and make this info disappear :-).\n"
     ]
    }
   ],
   "source": [
    "training_args = TrainingArguments(\n",
    "    output_dir = results_folder,\n",
    "    num_train_epochs = 10,\n",
    "    per_device_train_batch_size = train_batch_size,\n",
    "    learning_rate = lr,\n",
    "    gradient_accumulation_steps = gradient_accumulation_steps,    \n",
    "    per_device_eval_batch_size= eval_batch_size,\n",
    "    evaluation_strategy = \"epoch\",\n",
    "    save_strategy = \"epoch\",\n",
    "    disable_tqdm = False, \n",
    "    load_best_model_at_end=True,\n",
    "    metric_for_best_model = 'eval_f1',\n",
    "    greater_is_better = True,\n",
    "    warmup_steps=warmup_steps,\n",
    "    weight_decay=weight_decay,\n",
    "    logging_steps = logging_steps,\n",
    "    fp16 = True,\n",
    "    logging_dir=logging_folder,\n",
    "    dataloader_num_workers = 0,\n",
    "    run_name = 'deberta-classification'\n",
    ")\n"
   ]
  },
  {
   "cell_type": "code",
   "execution_count": null,
   "metadata": {},
   "outputs": [],
   "source": [
    "trainer = Trainer(\n",
    "        args=training_args,\n",
    "        tokenizer=tokenizer,\n",
    "        train_dataset=pcl_df_train_train,\n",
    "        eval_dataset=pcl_df_train_dev,\n",
    "        model_init=model_init,\n",
    "        compute_metrics=compute_metrics,\n",
    "    )"
   ]
  },
  {
   "cell_type": "code",
   "execution_count": null,
   "metadata": {},
   "outputs": [
    {
     "name": "stderr",
     "output_type": "stream",
     "text": [
      "The following columns in the training set don't have a corresponding argument in `DistilBertForSequenceClassification.forward` and have been ignored: text. If text are not expected by `DistilBertForSequenceClassification.forward`,  you can safely ignore this message.\n",
      "/usr/local/lib/python3.8/dist-packages/transformers/optimization.py:306: FutureWarning: This implementation of AdamW is deprecated and will be removed in a future version. Use the PyTorch implementation torch.optim.AdamW instead, or set `no_deprecation_warning=True` to disable this warning\n",
      "  warnings.warn(\n",
      "***** Running training *****\n",
      "  Num examples = 6700\n",
      "  Num Epochs = 10\n",
      "  Instantaneous batch size per device = 8\n",
      "  Total train batch size (w. parallel, distributed & accumulation) = 64\n",
      "  Gradient Accumulation steps = 8\n",
      "  Total optimization steps = 1040\n",
      "  Number of trainable parameters = 68022594\n",
      "You're using a DistilBertTokenizerFast tokenizer. Please note that with a fast tokenizer, using the `__call__` method is faster than using a method to encode the text followed by a call to the `pad` method to get a padded encoding.\n"
     ]
    },
    {
     "data": {
      "text/html": [
       "\n",
       "    <div>\n",
       "      \n",
       "      <progress value='1040' max='1040' style='width:300px; height:20px; vertical-align: middle;'></progress>\n",
       "      [1040/1040 05:57, Epoch 9/10]\n",
       "    </div>\n",
       "    <table border=\"1\" class=\"dataframe\">\n",
       "  <thead>\n",
       " <tr style=\"text-align: left;\">\n",
       "      <th>Epoch</th>\n",
       "      <th>Training Loss</th>\n",
       "      <th>Validation Loss</th>\n",
       "      <th>Accuracy</th>\n",
       "      <th>F1</th>\n",
       "      <th>Precision</th>\n",
       "      <th>Recall</th>\n",
       "    </tr>\n",
       "  </thead>\n",
       "  <tbody>\n",
       "    <tr>\n",
       "      <td>0</td>\n",
       "      <td>0.784900</td>\n",
       "      <td>0.681555</td>\n",
       "      <td>0.617910</td>\n",
       "      <td>0.230769</td>\n",
       "      <td>0.144796</td>\n",
       "      <td>0.568047</td>\n",
       "    </tr>\n",
       "    <tr>\n",
       "      <td>1</td>\n",
       "      <td>0.743600</td>\n",
       "      <td>0.681269</td>\n",
       "      <td>0.740299</td>\n",
       "      <td>0.333844</td>\n",
       "      <td>0.225207</td>\n",
       "      <td>0.644970</td>\n",
       "    </tr>\n",
       "    <tr>\n",
       "      <td>2</td>\n",
       "      <td>0.650500</td>\n",
       "      <td>0.611077</td>\n",
       "      <td>0.846567</td>\n",
       "      <td>0.447312</td>\n",
       "      <td>0.351351</td>\n",
       "      <td>0.615385</td>\n",
       "    </tr>\n",
       "    <tr>\n",
       "      <td>3</td>\n",
       "      <td>0.602200</td>\n",
       "      <td>0.599019</td>\n",
       "      <td>0.828060</td>\n",
       "      <td>0.452471</td>\n",
       "      <td>0.333333</td>\n",
       "      <td>0.704142</td>\n",
       "    </tr>\n",
       "    <tr>\n",
       "      <td>4</td>\n",
       "      <td>0.582100</td>\n",
       "      <td>0.577781</td>\n",
       "      <td>0.865672</td>\n",
       "      <td>0.501109</td>\n",
       "      <td>0.400709</td>\n",
       "      <td>0.668639</td>\n",
       "    </tr>\n",
       "    <tr>\n",
       "      <td>5</td>\n",
       "      <td>0.568400</td>\n",
       "      <td>0.576720</td>\n",
       "      <td>0.845373</td>\n",
       "      <td>0.489152</td>\n",
       "      <td>0.366864</td>\n",
       "      <td>0.733728</td>\n",
       "    </tr>\n",
       "    <tr>\n",
       "      <td>6</td>\n",
       "      <td>0.557900</td>\n",
       "      <td>0.551221</td>\n",
       "      <td>0.885373</td>\n",
       "      <td>0.524752</td>\n",
       "      <td>0.451064</td>\n",
       "      <td>0.627219</td>\n",
       "    </tr>\n",
       "    <tr>\n",
       "      <td>7</td>\n",
       "      <td>0.548300</td>\n",
       "      <td>0.571757</td>\n",
       "      <td>0.863284</td>\n",
       "      <td>0.503254</td>\n",
       "      <td>0.397260</td>\n",
       "      <td>0.686391</td>\n",
       "    </tr>\n",
       "    <tr>\n",
       "      <td>8</td>\n",
       "      <td>0.552900</td>\n",
       "      <td>0.537113</td>\n",
       "      <td>0.891940</td>\n",
       "      <td>0.534704</td>\n",
       "      <td>0.472727</td>\n",
       "      <td>0.615385</td>\n",
       "    </tr>\n",
       "    <tr>\n",
       "      <td>9</td>\n",
       "      <td>0.544900</td>\n",
       "      <td>0.553026</td>\n",
       "      <td>0.872836</td>\n",
       "      <td>0.517007</td>\n",
       "      <td>0.419118</td>\n",
       "      <td>0.674556</td>\n",
       "    </tr>\n",
       "  </tbody>\n",
       "</table><p>"
      ],
      "text/plain": [
       "<IPython.core.display.HTML object>"
      ]
     },
     "metadata": {},
     "output_type": "display_data"
    },
    {
     "name": "stderr",
     "output_type": "stream",
     "text": [
      "The following columns in the evaluation set don't have a corresponding argument in `DistilBertForSequenceClassification.forward` and have been ignored: text. If text are not expected by `DistilBertForSequenceClassification.forward`,  you can safely ignore this message.\n",
      "***** Running Evaluation *****\n",
      "  Num examples = 1675\n",
      "  Batch size = 16\n",
      "Saving model checkpoint to /content/drive/MyDrive/NLP/results/checkpoint-104\n",
      "Configuration saved in /content/drive/MyDrive/NLP/results/checkpoint-104/config.json\n",
      "Model weights saved in /content/drive/MyDrive/NLP/results/checkpoint-104/pytorch_model.bin\n",
      "tokenizer config file saved in /content/drive/MyDrive/NLP/results/checkpoint-104/tokenizer_config.json\n",
      "Special tokens file saved in /content/drive/MyDrive/NLP/results/checkpoint-104/special_tokens_map.json\n",
      "The following columns in the evaluation set don't have a corresponding argument in `DistilBertForSequenceClassification.forward` and have been ignored: text. If text are not expected by `DistilBertForSequenceClassification.forward`,  you can safely ignore this message.\n",
      "***** Running Evaluation *****\n",
      "  Num examples = 1675\n",
      "  Batch size = 16\n",
      "Saving model checkpoint to /content/drive/MyDrive/NLP/results/checkpoint-208\n",
      "Configuration saved in /content/drive/MyDrive/NLP/results/checkpoint-208/config.json\n",
      "Model weights saved in /content/drive/MyDrive/NLP/results/checkpoint-208/pytorch_model.bin\n",
      "tokenizer config file saved in /content/drive/MyDrive/NLP/results/checkpoint-208/tokenizer_config.json\n",
      "Special tokens file saved in /content/drive/MyDrive/NLP/results/checkpoint-208/special_tokens_map.json\n",
      "The following columns in the evaluation set don't have a corresponding argument in `DistilBertForSequenceClassification.forward` and have been ignored: text. If text are not expected by `DistilBertForSequenceClassification.forward`,  you can safely ignore this message.\n",
      "***** Running Evaluation *****\n",
      "  Num examples = 1675\n",
      "  Batch size = 16\n",
      "Saving model checkpoint to /content/drive/MyDrive/NLP/results/checkpoint-312\n",
      "Configuration saved in /content/drive/MyDrive/NLP/results/checkpoint-312/config.json\n",
      "Model weights saved in /content/drive/MyDrive/NLP/results/checkpoint-312/pytorch_model.bin\n",
      "tokenizer config file saved in /content/drive/MyDrive/NLP/results/checkpoint-312/tokenizer_config.json\n",
      "Special tokens file saved in /content/drive/MyDrive/NLP/results/checkpoint-312/special_tokens_map.json\n",
      "The following columns in the evaluation set don't have a corresponding argument in `DistilBertForSequenceClassification.forward` and have been ignored: text. If text are not expected by `DistilBertForSequenceClassification.forward`,  you can safely ignore this message.\n",
      "***** Running Evaluation *****\n",
      "  Num examples = 1675\n",
      "  Batch size = 16\n",
      "Saving model checkpoint to /content/drive/MyDrive/NLP/results/checkpoint-416\n",
      "Configuration saved in /content/drive/MyDrive/NLP/results/checkpoint-416/config.json\n",
      "Model weights saved in /content/drive/MyDrive/NLP/results/checkpoint-416/pytorch_model.bin\n",
      "tokenizer config file saved in /content/drive/MyDrive/NLP/results/checkpoint-416/tokenizer_config.json\n",
      "Special tokens file saved in /content/drive/MyDrive/NLP/results/checkpoint-416/special_tokens_map.json\n",
      "The following columns in the evaluation set don't have a corresponding argument in `DistilBertForSequenceClassification.forward` and have been ignored: text. If text are not expected by `DistilBertForSequenceClassification.forward`,  you can safely ignore this message.\n",
      "***** Running Evaluation *****\n",
      "  Num examples = 1675\n",
      "  Batch size = 16\n",
      "Saving model checkpoint to /content/drive/MyDrive/NLP/results/checkpoint-520\n",
      "Configuration saved in /content/drive/MyDrive/NLP/results/checkpoint-520/config.json\n",
      "Model weights saved in /content/drive/MyDrive/NLP/results/checkpoint-520/pytorch_model.bin\n",
      "tokenizer config file saved in /content/drive/MyDrive/NLP/results/checkpoint-520/tokenizer_config.json\n",
      "Special tokens file saved in /content/drive/MyDrive/NLP/results/checkpoint-520/special_tokens_map.json\n",
      "The following columns in the evaluation set don't have a corresponding argument in `DistilBertForSequenceClassification.forward` and have been ignored: text. If text are not expected by `DistilBertForSequenceClassification.forward`,  you can safely ignore this message.\n",
      "***** Running Evaluation *****\n",
      "  Num examples = 1675\n",
      "  Batch size = 16\n",
      "Saving model checkpoint to /content/drive/MyDrive/NLP/results/checkpoint-624\n",
      "Configuration saved in /content/drive/MyDrive/NLP/results/checkpoint-624/config.json\n",
      "Model weights saved in /content/drive/MyDrive/NLP/results/checkpoint-624/pytorch_model.bin\n",
      "tokenizer config file saved in /content/drive/MyDrive/NLP/results/checkpoint-624/tokenizer_config.json\n",
      "Special tokens file saved in /content/drive/MyDrive/NLP/results/checkpoint-624/special_tokens_map.json\n",
      "The following columns in the evaluation set don't have a corresponding argument in `DistilBertForSequenceClassification.forward` and have been ignored: text. If text are not expected by `DistilBertForSequenceClassification.forward`,  you can safely ignore this message.\n",
      "***** Running Evaluation *****\n",
      "  Num examples = 1675\n",
      "  Batch size = 16\n",
      "Saving model checkpoint to /content/drive/MyDrive/NLP/results/checkpoint-728\n",
      "Configuration saved in /content/drive/MyDrive/NLP/results/checkpoint-728/config.json\n",
      "Model weights saved in /content/drive/MyDrive/NLP/results/checkpoint-728/pytorch_model.bin\n",
      "tokenizer config file saved in /content/drive/MyDrive/NLP/results/checkpoint-728/tokenizer_config.json\n",
      "Special tokens file saved in /content/drive/MyDrive/NLP/results/checkpoint-728/special_tokens_map.json\n",
      "The following columns in the evaluation set don't have a corresponding argument in `DistilBertForSequenceClassification.forward` and have been ignored: text. If text are not expected by `DistilBertForSequenceClassification.forward`,  you can safely ignore this message.\n",
      "***** Running Evaluation *****\n",
      "  Num examples = 1675\n",
      "  Batch size = 16\n",
      "Saving model checkpoint to /content/drive/MyDrive/NLP/results/checkpoint-832\n",
      "Configuration saved in /content/drive/MyDrive/NLP/results/checkpoint-832/config.json\n",
      "Model weights saved in /content/drive/MyDrive/NLP/results/checkpoint-832/pytorch_model.bin\n",
      "tokenizer config file saved in /content/drive/MyDrive/NLP/results/checkpoint-832/tokenizer_config.json\n",
      "Special tokens file saved in /content/drive/MyDrive/NLP/results/checkpoint-832/special_tokens_map.json\n",
      "The following columns in the evaluation set don't have a corresponding argument in `DistilBertForSequenceClassification.forward` and have been ignored: text. If text are not expected by `DistilBertForSequenceClassification.forward`,  you can safely ignore this message.\n",
      "***** Running Evaluation *****\n",
      "  Num examples = 1675\n",
      "  Batch size = 16\n",
      "Saving model checkpoint to /content/drive/MyDrive/NLP/results/checkpoint-936\n",
      "Configuration saved in /content/drive/MyDrive/NLP/results/checkpoint-936/config.json\n",
      "Model weights saved in /content/drive/MyDrive/NLP/results/checkpoint-936/pytorch_model.bin\n",
      "tokenizer config file saved in /content/drive/MyDrive/NLP/results/checkpoint-936/tokenizer_config.json\n",
      "Special tokens file saved in /content/drive/MyDrive/NLP/results/checkpoint-936/special_tokens_map.json\n",
      "The following columns in the evaluation set don't have a corresponding argument in `DistilBertForSequenceClassification.forward` and have been ignored: text. If text are not expected by `DistilBertForSequenceClassification.forward`,  you can safely ignore this message.\n",
      "***** Running Evaluation *****\n",
      "  Num examples = 1675\n",
      "  Batch size = 16\n",
      "Saving model checkpoint to /content/drive/MyDrive/NLP/results/checkpoint-1040\n",
      "Configuration saved in /content/drive/MyDrive/NLP/results/checkpoint-1040/config.json\n",
      "Model weights saved in /content/drive/MyDrive/NLP/results/checkpoint-1040/pytorch_model.bin\n",
      "tokenizer config file saved in /content/drive/MyDrive/NLP/results/checkpoint-1040/tokenizer_config.json\n",
      "Special tokens file saved in /content/drive/MyDrive/NLP/results/checkpoint-1040/special_tokens_map.json\n",
      "\n",
      "\n",
      "Training completed. Do not forget to share your model on huggingface.co/models =)\n",
      "\n",
      "\n",
      "Loading best model from /content/drive/MyDrive/NLP/results/checkpoint-936 (score: 0.5347043701799485).\n"
     ]
    },
    {
     "data": {
      "text/plain": [
       "TrainOutput(global_step=1040, training_loss=0.6201488990050096, metrics={'train_runtime': 357.9391, 'train_samples_per_second': 187.183, 'train_steps_per_second': 2.906, 'total_flos': 9089077250433024.0, 'train_loss': 0.6201488990050096, 'epoch': 9.99})"
      ]
     },
     "metadata": {},
     "output_type": "display_data"
    }
   ],
   "source": [
    "trainer.train()"
   ]
  },
  {
   "cell_type": "markdown",
   "metadata": {},
   "source": []
  },
  {
   "cell_type": "code",
   "execution_count": null,
   "metadata": {},
   "outputs": [
    {
     "name": "stderr",
     "output_type": "stream",
     "text": [
      "The following columns in the evaluation set don't have a corresponding argument in `DistilBertForSequenceClassification.forward` and have been ignored: text. If text are not expected by `DistilBertForSequenceClassification.forward`,  you can safely ignore this message.\n",
      "***** Running Evaluation *****\n",
      "  Num examples = 1675\n",
      "  Batch size = 16\n"
     ]
    },
    {
     "data": {
      "text/html": [
       "\n",
       "    <div>\n",
       "      \n",
       "      <progress value='105' max='105' style='width:300px; height:20px; vertical-align: middle;'></progress>\n",
       "      [105/105 00:01]\n",
       "    </div>\n",
       "    "
      ],
      "text/plain": [
       "<IPython.core.display.HTML object>"
      ]
     },
     "metadata": {},
     "output_type": "display_data"
    },
    {
     "data": {
      "text/plain": [
       "{'eval_loss': 0.30444014072418213,\n",
       " 'eval_accuracy': 0.9164179104477612,\n",
       " 'eval_f1': 0.5953757225433526,\n",
       " 'eval_precision': 0.5819209039548022,\n",
       " 'eval_recall': 0.6094674556213018,\n",
       " 'eval_runtime': 1.9852,\n",
       " 'eval_samples_per_second': 843.722,\n",
       " 'eval_steps_per_second': 52.89,\n",
       " 'epoch': 9.99}"
      ]
     },
     "metadata": {},
     "output_type": "display_data"
    }
   ],
   "source": [
    "# evaluate the model on eval_dataset=pcl_df_train_dev, this should give the \n",
    "# best performance found during the training process\n",
    "trainer.evaluate()"
   ]
  },
  {
   "cell_type": "markdown",
   "metadata": {},
   "source": [
    "### Make predictions on official dev set"
   ]
  },
  {
   "cell_type": "code",
   "execution_count": null,
   "metadata": {},
   "outputs": [
    {
     "name": "stderr",
     "output_type": "stream",
     "text": [
      "The following columns in the test set don't have a corresponding argument in `DistilBertForSequenceClassification.forward` and have been ignored: text. If text are not expected by `DistilBertForSequenceClassification.forward`,  you can safely ignore this message.\n",
      "***** Running Prediction *****\n",
      "  Num examples = 2094\n",
      "  Batch size = 16\n"
     ]
    },
    {
     "data": {
      "text/html": [],
      "text/plain": [
       "<IPython.core.display.HTML object>"
      ]
     },
     "metadata": {},
     "output_type": "display_data"
    }
   ],
   "source": [
    "dev_set_preds, dev_set_labels, dev_set_metrics = trainer.predict(\n",
    "    pcl_df_dev, metric_key_prefix=\"dev\"\n",
    ")"
   ]
  },
  {
   "cell_type": "code",
   "execution_count": null,
   "metadata": {},
   "outputs": [
    {
     "data": {
      "text/plain": [
       "{'dev_loss': 0.5393843054771423,\n",
       " 'dev_accuracy': 0.8930276981852913,\n",
       " 'dev_f1': 0.5193133047210301,\n",
       " 'dev_precision': 0.45318352059925093,\n",
       " 'dev_recall': 0.6080402010050251,\n",
       " 'dev_runtime': 2.4904,\n",
       " 'dev_samples_per_second': 840.817,\n",
       " 'dev_steps_per_second': 52.601}"
      ]
     },
     "metadata": {},
     "output_type": "display_data"
    }
   ],
   "source": [
    "dev_set_metrics"
   ]
  },
  {
   "cell_type": "code",
   "execution_count": null,
   "metadata": {},
   "outputs": [],
   "source": [
    "dev_set_pred_labels = np.argmax(dev_set_preds)"
   ]
  },
  {
   "cell_type": "markdown",
   "metadata": {},
   "source": [
    "### Saving trained model"
   ]
  },
  {
   "cell_type": "code",
   "execution_count": null,
   "metadata": {},
   "outputs": [
    {
     "name": "stderr",
     "output_type": "stream",
     "text": [
      "Saving model checkpoint to /content/drive/MyDrive/NLP/results/distilbert\n",
      "Configuration saved in /content/drive/MyDrive/NLP/results/distilbert/config.json\n",
      "Model weights saved in /content/drive/MyDrive/NLP/results/distilbert/pytorch_model.bin\n"
     ]
    }
   ],
   "source": [
    "# save the best model\n",
    "trainer.save_model(f'{results_folder}/deberta')"
   ]
  },
  {
   "cell_type": "markdown",
   "metadata": {},
   "source": [
    "### Load trained model"
   ]
  },
  {
   "cell_type": "code",
   "execution_count": null,
   "metadata": {},
   "outputs": [
    {
     "name": "stderr",
     "output_type": "stream",
     "text": [
      "loading configuration file /content/drive/MyDrive/NLP/results/distilbert/config.json\n",
      "You are using a model of type distilbert to instantiate a model of type longformer. This is not supported for all configurations of models and can yield errors.\n",
      "Model config LongformerConfig {\n",
      "  \"_name_or_path\": \"distilbert-base-uncased\",\n",
      "  \"activation\": \"gelu\",\n",
      "  \"architectures\": [\n",
      "    \"DistilBertForSequenceClassification\"\n",
      "  ],\n",
      "  \"attention_dropout\": 0.1,\n",
      "  \"attention_probs_dropout_prob\": 0.1,\n",
      "  \"attention_window\": 512,\n",
      "  \"bos_token_id\": 0,\n",
      "  \"classifier_dropout\": null,\n",
      "  \"dim\": 768,\n",
      "  \"dropout\": 0.1,\n",
      "  \"eos_token_id\": 2,\n",
      "  \"hidden_act\": \"gelu\",\n",
      "  \"hidden_dim\": 3072,\n",
      "  \"hidden_dropout_prob\": 0.1,\n",
      "  \"hidden_size\": 768,\n",
      "  \"id2label\": {\n",
      "    \"0\": \"NEGATIVE\",\n",
      "    \"1\": \"POSITIVE\"\n",
      "  },\n",
      "  \"initializer_range\": 0.02,\n",
      "  \"intermediate_size\": 3072,\n",
      "  \"label2id\": {\n",
      "    \"NEGATIVE\": 0,\n",
      "    \"POSITIVE\": 1\n",
      "  },\n",
      "  \"layer_norm_eps\": 1e-12,\n",
      "  \"max_position_embeddings\": 512,\n",
      "  \"model_type\": \"longformer\",\n",
      "  \"n_heads\": 12,\n",
      "  \"n_layers\": 6,\n",
      "  \"num_attention_heads\": 12,\n",
      "  \"num_hidden_layers\": 12,\n",
      "  \"onnx_export\": false,\n",
      "  \"pad_token_id\": 0,\n",
      "  \"position_embedding_type\": \"absolute\",\n",
      "  \"problem_type\": \"single_label_classification\",\n",
      "  \"qa_dropout\": 0.1,\n",
      "  \"sep_token_id\": 2,\n",
      "  \"seq_classif_dropout\": 0.2,\n",
      "  \"sinusoidal_pos_embds\": false,\n",
      "  \"tie_weights_\": true,\n",
      "  \"torch_dtype\": \"float32\",\n",
      "  \"transformers_version\": \"4.26.1\",\n",
      "  \"type_vocab_size\": 2,\n",
      "  \"vocab_size\": 30522\n",
      "}\n",
      "\n",
      "loading weights file /content/drive/MyDrive/NLP/results/distilbert/pytorch_model.bin\n",
      "Some weights of the model checkpoint at /content/drive/MyDrive/NLP/results/distilbert were not used when initializing LongformerForSequenceClassification: ['distilbert.transformer.layer.4.output_layer_norm.bias', 'distilbert.transformer.layer.4.attention.k_lin.weight', 'distilbert.transformer.layer.5.attention.k_lin.bias', 'distilbert.transformer.layer.3.attention.v_lin.bias', 'distilbert.transformer.layer.2.attention.k_lin.weight', 'distilbert.transformer.layer.3.attention.out_lin.weight', 'distilbert.transformer.layer.4.sa_layer_norm.bias', 'distilbert.transformer.layer.2.attention.out_lin.weight', 'distilbert.transformer.layer.4.attention.v_lin.bias', 'distilbert.transformer.layer.0.ffn.lin1.bias', 'distilbert.transformer.layer.0.attention.q_lin.weight', 'distilbert.transformer.layer.3.ffn.lin1.weight', 'distilbert.transformer.layer.3.attention.q_lin.bias', 'distilbert.transformer.layer.2.sa_layer_norm.weight', 'distilbert.transformer.layer.0.ffn.lin2.bias', 'distilbert.transformer.layer.4.sa_layer_norm.weight', 'distilbert.transformer.layer.1.attention.q_lin.bias', 'distilbert.transformer.layer.1.attention.v_lin.bias', 'distilbert.transformer.layer.3.attention.out_lin.bias', 'distilbert.transformer.layer.2.attention.k_lin.bias', 'distilbert.transformer.layer.0.attention.k_lin.bias', 'distilbert.transformer.layer.1.output_layer_norm.bias', 'distilbert.transformer.layer.0.output_layer_norm.bias', 'distilbert.transformer.layer.4.ffn.lin2.bias', 'pre_classifier.bias', 'distilbert.embeddings.word_embeddings.weight', 'distilbert.transformer.layer.0.sa_layer_norm.bias', 'distilbert.transformer.layer.4.attention.v_lin.weight', 'distilbert.transformer.layer.2.attention.v_lin.weight', 'distilbert.transformer.layer.1.attention.q_lin.weight', 'distilbert.transformer.layer.2.ffn.lin2.weight', 'distilbert.transformer.layer.4.ffn.lin2.weight', 'distilbert.transformer.layer.1.ffn.lin1.bias', 'distilbert.transformer.layer.3.attention.q_lin.weight', 'distilbert.transformer.layer.5.sa_layer_norm.bias', 'distilbert.transformer.layer.1.attention.out_lin.weight', 'distilbert.transformer.layer.0.attention.v_lin.weight', 'distilbert.transformer.layer.3.sa_layer_norm.weight', 'distilbert.transformer.layer.4.attention.q_lin.weight', 'distilbert.transformer.layer.1.ffn.lin1.weight', 'distilbert.transformer.layer.4.output_layer_norm.weight', 'distilbert.transformer.layer.0.output_layer_norm.weight', 'distilbert.transformer.layer.3.output_layer_norm.weight', 'distilbert.transformer.layer.4.attention.out_lin.weight', 'distilbert.transformer.layer.4.ffn.lin1.bias', 'distilbert.transformer.layer.5.ffn.lin1.bias', 'distilbert.transformer.layer.5.ffn.lin1.weight', 'distilbert.transformer.layer.2.attention.v_lin.bias', 'distilbert.transformer.layer.1.ffn.lin2.weight', 'distilbert.transformer.layer.3.ffn.lin2.weight', 'distilbert.transformer.layer.2.attention.q_lin.weight', 'distilbert.transformer.layer.4.ffn.lin1.weight', 'distilbert.transformer.layer.5.output_layer_norm.bias', 'distilbert.transformer.layer.5.attention.v_lin.bias', 'pre_classifier.weight', 'distilbert.transformer.layer.0.attention.out_lin.bias', 'distilbert.transformer.layer.5.attention.out_lin.bias', 'distilbert.transformer.layer.3.sa_layer_norm.bias', 'distilbert.transformer.layer.3.attention.k_lin.weight', 'distilbert.transformer.layer.3.attention.v_lin.weight', 'distilbert.transformer.layer.5.attention.out_lin.weight', 'distilbert.transformer.layer.0.attention.q_lin.bias', 'distilbert.transformer.layer.1.attention.k_lin.bias', 'distilbert.transformer.layer.2.attention.q_lin.bias', 'classifier.weight', 'distilbert.transformer.layer.5.ffn.lin2.bias', 'distilbert.transformer.layer.4.attention.out_lin.bias', 'distilbert.transformer.layer.2.sa_layer_norm.bias', 'distilbert.transformer.layer.1.attention.k_lin.weight', 'distilbert.transformer.layer.2.attention.out_lin.bias', 'distilbert.transformer.layer.5.attention.q_lin.weight', 'distilbert.transformer.layer.2.ffn.lin2.bias', 'distilbert.embeddings.LayerNorm.bias', 'distilbert.transformer.layer.1.sa_layer_norm.bias', 'distilbert.transformer.layer.1.output_layer_norm.weight', 'distilbert.transformer.layer.0.ffn.lin1.weight', 'distilbert.transformer.layer.0.ffn.lin2.weight', 'distilbert.transformer.layer.5.attention.k_lin.weight', 'distilbert.transformer.layer.2.ffn.lin1.weight', 'distilbert.transformer.layer.5.ffn.lin2.weight', 'distilbert.transformer.layer.5.attention.q_lin.bias', 'distilbert.transformer.layer.0.attention.k_lin.weight', 'distilbert.transformer.layer.3.output_layer_norm.bias', 'distilbert.transformer.layer.5.sa_layer_norm.weight', 'distilbert.transformer.layer.0.attention.v_lin.bias', 'distilbert.transformer.layer.2.ffn.lin1.bias', 'distilbert.transformer.layer.0.sa_layer_norm.weight', 'distilbert.embeddings.LayerNorm.weight', 'distilbert.transformer.layer.0.attention.out_lin.weight', 'distilbert.transformer.layer.2.output_layer_norm.weight', 'distilbert.transformer.layer.3.ffn.lin2.bias', 'distilbert.transformer.layer.4.attention.q_lin.bias', 'distilbert.transformer.layer.1.ffn.lin2.bias', 'distilbert.transformer.layer.1.attention.out_lin.bias', 'distilbert.transformer.layer.1.sa_layer_norm.weight', 'distilbert.transformer.layer.5.attention.v_lin.weight', 'distilbert.transformer.layer.3.ffn.lin1.bias', 'distilbert.transformer.layer.4.attention.k_lin.bias', 'classifier.bias', 'distilbert.transformer.layer.5.output_layer_norm.weight', 'distilbert.embeddings.position_embeddings.weight', 'distilbert.transformer.layer.2.output_layer_norm.bias', 'distilbert.transformer.layer.3.attention.k_lin.bias', 'distilbert.transformer.layer.1.attention.v_lin.weight']\n",
      "- This IS expected if you are initializing LongformerForSequenceClassification from the checkpoint of a model trained on another task or with another architecture (e.g. initializing a BertForSequenceClassification model from a BertForPreTraining model).\n",
      "- This IS NOT expected if you are initializing LongformerForSequenceClassification from the checkpoint of a model that you expect to be exactly identical (initializing a BertForSequenceClassification model from a BertForSequenceClassification model).\n",
      "Some weights of LongformerForSequenceClassification were not initialized from the model checkpoint at /content/drive/MyDrive/NLP/results/distilbert and are newly initialized: ['encoder.layer.8.intermediate.dense.bias', 'encoder.layer.1.attention.self.value.bias', 'encoder.layer.1.attention.self.key_global.weight', 'encoder.layer.2.attention.self.query.bias', 'encoder.layer.0.intermediate.dense.weight', 'encoder.layer.2.attention.output.LayerNorm.bias', 'encoder.layer.8.attention.self.key_global.weight', 'encoder.layer.10.attention.self.key_global.bias', 'encoder.layer.8.attention.self.key_global.bias', 'encoder.layer.3.attention.self.key_global.weight', 'encoder.layer.8.attention.output.LayerNorm.bias', 'encoder.layer.7.intermediate.dense.bias', 'encoder.layer.9.attention.self.key.weight', 'encoder.layer.11.attention.self.key.bias', 'encoder.layer.0.attention.self.key_global.weight', 'encoder.layer.7.output.LayerNorm.bias', 'encoder.layer.8.attention.self.value_global.bias', 'encoder.layer.1.attention.self.value.weight', 'encoder.layer.8.output.dense.weight', 'encoder.layer.7.attention.self.value.bias', 'encoder.layer.7.output.dense.weight', 'encoder.layer.4.attention.self.value_global.bias', 'encoder.layer.5.output.LayerNorm.weight', 'encoder.layer.7.attention.self.query.weight', 'encoder.layer.9.output.dense.bias', 'encoder.layer.10.attention.self.value_global.bias', 'encoder.layer.7.attention.self.query_global.bias', 'encoder.layer.2.output.LayerNorm.weight', 'encoder.layer.1.output.dense.bias', 'encoder.layer.4.attention.output.dense.weight', 'encoder.layer.6.attention.self.query.bias', 'encoder.layer.7.attention.self.key.weight', 'encoder.layer.6.output.dense.weight', 'encoder.layer.4.attention.self.query_global.weight', 'encoder.layer.6.intermediate.dense.bias', 'encoder.layer.11.output.LayerNorm.weight', 'encoder.layer.4.attention.self.value.bias', 'encoder.layer.10.attention.self.value.bias', 'encoder.layer.11.attention.self.key_global.bias', 'encoder.layer.5.attention.self.key_global.weight', 'encoder.layer.3.intermediate.dense.bias', 'encoder.layer.10.output.LayerNorm.weight', 'encoder.layer.10.output.dense.bias', 'encoder.layer.6.attention.output.LayerNorm.bias', 'encoder.layer.1.attention.output.dense.bias', 'encoder.layer.11.attention.output.LayerNorm.bias', 'encoder.layer.10.intermediate.dense.bias', 'encoder.layer.3.output.dense.weight', 'encoder.layer.2.attention.self.query.weight', 'encoder.layer.5.attention.self.value_global.bias', 'encoder.layer.3.attention.self.value.bias', 'encoder.layer.9.attention.output.LayerNorm.weight', 'encoder.layer.9.attention.self.query_global.bias', 'encoder.layer.11.output.dense.bias', 'encoder.layer.5.intermediate.dense.bias', 'encoder.layer.2.attention.self.key.weight', 'encoder.layer.11.attention.self.key_global.weight', 'encoder.layer.4.attention.output.LayerNorm.weight', 'encoder.layer.3.attention.output.dense.weight', 'encoder.layer.10.intermediate.dense.weight', 'encoder.layer.3.attention.self.key_global.bias', 'encoder.layer.11.attention.self.query_global.bias', 'encoder.layer.1.output.LayerNorm.bias', 'encoder.layer.3.output.LayerNorm.bias', 'encoder.layer.3.attention.output.LayerNorm.weight', 'encoder.layer.2.attention.self.value_global.weight', 'encoder.layer.11.attention.self.key.weight', 'encoder.layer.2.output.dense.bias', 'encoder.layer.11.intermediate.dense.bias', 'encoder.layer.1.output.LayerNorm.weight', 'encoder.layer.8.attention.self.query_global.bias', 'encoder.layer.9.attention.self.value_global.weight', 'encoder.layer.1.intermediate.dense.bias', 'encoder.layer.0.attention.output.dense.bias', 'encoder.layer.0.attention.self.value.weight', 'encoder.layer.3.attention.self.query_global.weight', 'encoder.layer.4.output.dense.weight', 'encoder.layer.5.attention.output.LayerNorm.weight', 'encoder.layer.6.attention.self.key_global.weight', 'encoder.layer.9.intermediate.dense.weight', 'classifier.dense.weight', 'encoder.layer.0.output.LayerNorm.weight', 'encoder.layer.1.attention.self.value_global.bias', 'encoder.layer.9.attention.self.key.bias', 'encoder.layer.0.output.LayerNorm.bias', 'encoder.layer.2.attention.self.key.bias', 'encoder.layer.4.attention.output.dense.bias', 'encoder.layer.11.output.LayerNorm.bias', 'encoder.layer.1.attention.self.key.bias', 'encoder.layer.10.attention.self.query_global.weight', 'encoder.layer.4.output.LayerNorm.bias', 'encoder.layer.11.attention.self.query_global.weight', 'encoder.layer.5.attention.output.dense.bias', 'encoder.layer.0.attention.self.query.weight', 'encoder.layer.5.attention.output.dense.weight', 'encoder.layer.5.intermediate.dense.weight', 'encoder.layer.0.attention.self.key_global.bias', 'encoder.layer.1.attention.output.dense.weight', 'encoder.layer.7.attention.output.dense.bias', 'encoder.layer.3.attention.self.key.bias', 'encoder.layer.10.attention.self.query.bias', 'encoder.layer.3.attention.self.value_global.weight', 'encoder.layer.8.attention.output.dense.weight', 'embeddings.token_type_embeddings.weight', 'encoder.layer.9.attention.self.key_global.bias', 'classifier.out_proj.bias', 'encoder.layer.7.attention.self.value.weight', 'encoder.layer.10.attention.self.key_global.weight', 'encoder.layer.3.attention.self.query_global.bias', 'encoder.layer.3.attention.self.query.bias', 'encoder.layer.9.attention.self.key_global.weight', 'embeddings.LayerNorm.bias', 'encoder.layer.6.attention.self.value.weight', 'encoder.layer.2.intermediate.dense.bias', 'encoder.layer.4.attention.self.key.weight', 'encoder.layer.6.attention.output.LayerNorm.weight', 'encoder.layer.3.attention.self.query.weight', 'encoder.layer.9.output.LayerNorm.weight', 'encoder.layer.2.attention.output.dense.bias', 'encoder.layer.5.attention.self.value_global.weight', 'encoder.layer.1.attention.output.LayerNorm.weight', 'encoder.layer.11.attention.self.value_global.bias', 'encoder.layer.3.output.dense.bias', 'encoder.layer.1.attention.self.query.bias', 'encoder.layer.5.attention.self.key_global.bias', 'encoder.layer.2.output.dense.weight', 'encoder.layer.4.attention.self.value.weight', 'encoder.layer.1.attention.output.LayerNorm.bias', 'encoder.layer.2.attention.output.dense.weight', 'encoder.layer.6.attention.self.key.bias', 'encoder.layer.0.attention.self.value.bias', 'encoder.layer.8.attention.self.value.weight', 'encoder.layer.6.attention.self.query.weight', 'encoder.layer.9.attention.self.query.bias', 'encoder.layer.0.attention.self.key.bias', 'encoder.layer.6.attention.self.key_global.bias', 'encoder.layer.7.attention.self.value_global.bias', 'encoder.layer.8.attention.self.query.weight', 'encoder.layer.3.attention.self.value.weight', 'encoder.layer.2.attention.self.key_global.bias', 'encoder.layer.8.output.LayerNorm.weight', 'encoder.layer.5.output.dense.weight', 'encoder.layer.10.attention.output.LayerNorm.weight', 'encoder.layer.1.intermediate.dense.weight', 'encoder.layer.10.attention.self.key.weight', 'encoder.layer.9.attention.self.value.weight', 'encoder.layer.4.output.dense.bias', 'encoder.layer.0.attention.self.key.weight', 'encoder.layer.11.intermediate.dense.weight', 'encoder.layer.9.intermediate.dense.bias', 'encoder.layer.7.attention.output.LayerNorm.bias', 'encoder.layer.11.attention.self.value.weight', 'encoder.layer.2.attention.self.value.bias', 'encoder.layer.6.output.LayerNorm.bias', 'encoder.layer.7.attention.self.key_global.bias', 'encoder.layer.9.attention.self.value_global.bias', 'encoder.layer.7.attention.self.key_global.weight', 'encoder.layer.4.attention.self.key_global.weight', 'encoder.layer.1.attention.self.key_global.bias', 'encoder.layer.5.output.LayerNorm.bias', 'encoder.layer.5.attention.self.value.weight', 'encoder.layer.0.attention.self.value_global.bias', 'encoder.layer.4.attention.self.key.bias', 'encoder.layer.4.output.LayerNorm.weight', 'encoder.layer.6.attention.self.key.weight', 'encoder.layer.1.attention.self.value_global.weight', 'encoder.layer.3.attention.self.value_global.bias', 'encoder.layer.10.attention.output.LayerNorm.bias', 'encoder.layer.8.attention.self.value.bias', 'encoder.layer.10.attention.output.dense.weight', 'encoder.layer.11.attention.self.query.bias', 'encoder.layer.4.attention.output.LayerNorm.bias', 'encoder.layer.6.output.dense.bias', 'encoder.layer.6.attention.self.value_global.bias', 'encoder.layer.11.attention.self.query.weight', 'encoder.layer.6.attention.self.value_global.weight', 'classifier.dense.bias', 'encoder.layer.3.attention.output.dense.bias', 'encoder.layer.9.attention.self.query.weight', 'embeddings.LayerNorm.weight', 'encoder.layer.8.attention.self.value_global.weight', 'encoder.layer.1.attention.self.query.weight', 'encoder.layer.5.attention.self.key.bias', 'encoder.layer.2.attention.self.value_global.bias', 'encoder.layer.9.output.LayerNorm.bias', 'encoder.layer.0.output.dense.bias', 'encoder.layer.6.attention.self.value.bias', 'encoder.layer.8.attention.self.key.bias', 'encoder.layer.10.attention.self.value.weight', 'encoder.layer.2.output.LayerNorm.bias', 'encoder.layer.7.attention.self.query_global.weight', 'encoder.layer.7.attention.output.dense.weight', 'encoder.layer.1.output.dense.weight', 'encoder.layer.2.attention.self.value.weight', 'encoder.layer.11.output.dense.weight', 'encoder.layer.4.intermediate.dense.weight', 'encoder.layer.5.output.dense.bias', 'encoder.layer.2.attention.output.LayerNorm.weight', 'encoder.layer.7.attention.output.LayerNorm.weight', 'encoder.layer.6.attention.self.query_global.bias', 'encoder.layer.0.attention.output.LayerNorm.bias', 'encoder.layer.8.attention.self.query.bias', 'encoder.layer.8.intermediate.dense.weight', 'encoder.layer.9.output.dense.weight', 'encoder.layer.0.intermediate.dense.bias', 'embeddings.position_embeddings.weight', 'encoder.layer.0.attention.self.value_global.weight', 'encoder.layer.4.attention.self.key_global.bias', 'encoder.layer.3.attention.output.LayerNorm.bias', 'encoder.layer.2.attention.self.query_global.weight', 'encoder.layer.6.attention.output.dense.weight', 'encoder.layer.9.attention.self.value.bias', 'encoder.layer.10.attention.self.query.weight', 'embeddings.word_embeddings.weight', 'encoder.layer.9.attention.output.dense.bias', 'encoder.layer.10.attention.output.dense.bias', 'encoder.layer.8.attention.self.key.weight', 'encoder.layer.10.output.dense.weight', 'encoder.layer.9.attention.self.query_global.weight', 'encoder.layer.2.intermediate.dense.weight', 'encoder.layer.8.attention.output.LayerNorm.weight', 'encoder.layer.4.attention.self.query_global.bias', 'encoder.layer.1.attention.self.query_global.bias', 'encoder.layer.7.attention.self.key.bias', 'encoder.layer.8.output.dense.bias', 'encoder.layer.10.attention.self.query_global.bias', 'encoder.layer.3.intermediate.dense.weight', 'encoder.layer.7.attention.self.value_global.weight', 'encoder.layer.6.attention.self.query_global.weight', 'encoder.layer.3.attention.self.key.weight', 'encoder.layer.7.output.LayerNorm.weight', 'encoder.layer.8.output.LayerNorm.bias', 'encoder.layer.11.attention.output.LayerNorm.weight', 'encoder.layer.5.attention.self.query.weight', 'encoder.layer.7.attention.self.query.bias', 'encoder.layer.5.attention.self.query_global.bias', 'encoder.layer.0.attention.self.query.bias', 'encoder.layer.5.attention.output.LayerNorm.bias', 'encoder.layer.6.output.LayerNorm.weight', 'encoder.layer.10.output.LayerNorm.bias', 'encoder.layer.7.output.dense.bias', 'encoder.layer.0.attention.output.dense.weight', 'encoder.layer.9.attention.output.dense.weight', 'encoder.layer.10.attention.self.value_global.weight', 'encoder.layer.8.attention.output.dense.bias', 'encoder.layer.0.attention.output.LayerNorm.weight', 'encoder.layer.4.attention.self.value_global.weight', 'encoder.layer.6.intermediate.dense.weight', 'encoder.layer.2.attention.self.key_global.weight', 'encoder.layer.11.attention.self.value_global.weight', 'encoder.layer.4.intermediate.dense.bias', 'encoder.layer.5.attention.self.value.bias', 'encoder.layer.5.attention.self.query.bias', 'encoder.layer.10.attention.self.key.bias', 'encoder.layer.0.output.dense.weight', 'encoder.layer.2.attention.self.query_global.bias', 'encoder.layer.11.attention.output.dense.bias', 'encoder.layer.4.attention.self.query.weight', 'encoder.layer.8.attention.self.query_global.weight', 'encoder.layer.9.attention.output.LayerNorm.bias', 'encoder.layer.0.attention.self.query_global.weight', 'encoder.layer.3.output.LayerNorm.weight', 'encoder.layer.11.attention.self.value.bias', 'encoder.layer.0.attention.self.query_global.bias', 'encoder.layer.5.attention.self.query_global.weight', 'encoder.layer.11.attention.output.dense.weight', 'encoder.layer.6.attention.output.dense.bias', 'encoder.layer.7.intermediate.dense.weight', 'encoder.layer.5.attention.self.key.weight', 'encoder.layer.4.attention.self.query.bias', 'classifier.out_proj.weight', 'encoder.layer.1.attention.self.query_global.weight', 'encoder.layer.1.attention.self.key.weight']\n",
      "You should probably TRAIN this model on a down-stream task to be able to use it for predictions and inference.\n"
     ]
    }
   ],
   "source": [
    "model = AutoModelForSequenceClassification.from_pretrained(\n",
    "    f'{results_folder}/deberta', \n",
    "    num_labels=2, \n",
    "    id2label=id2label, \n",
    "    label2id=label2id\n",
    ")\n"
   ]
  }
 ],
 "metadata": {
  "kernelspec": {
   "display_name": "nlp",
   "language": "python",
   "name": "python3"
  },
  "language_info": {
   "name": "python",
   "version": "3.10.9"
  },
  "orig_nbformat": 4
 },
 "nbformat": 4,
 "nbformat_minor": 2
}
