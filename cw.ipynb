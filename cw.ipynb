{
 "cells": [
  {
   "cell_type": "code",
   "execution_count": 1,
   "metadata": {},
   "outputs": [],
   "source": [
    "import pandas as pd"
   ]
  },
  {
   "cell_type": "code",
   "execution_count": 4,
   "metadata": {},
   "outputs": [],
   "source": [
    "from IPython.core.interactiveshell import InteractiveShell\n",
    "InteractiveShell.ast_node_interactivity = \"all\""
   ]
  },
  {
   "cell_type": "code",
   "execution_count": 7,
   "metadata": {},
   "outputs": [],
   "source": [
    "data_folder = \"dontpatronizeme_v1.4/\""
   ]
  },
  {
   "attachments": {},
   "cell_type": "markdown",
   "metadata": {},
   "source": [
    "## Load data"
   ]
  },
  {
   "cell_type": "code",
   "execution_count": 10,
   "metadata": {},
   "outputs": [],
   "source": [
    "pcl_df = pd.read_csv(f\"{data_folder}/dontpatronizeme_pcl.tsv\", sep='\\t', on_bad_lines='skip')\n",
    "cat_df = pd.read_csv(f\"{data_folder}/dontpatronizeme_categories.tsv\", sep='\\t', on_bad_lines='skip')"
   ]
  },
  {
   "cell_type": "code",
   "execution_count": 23,
   "metadata": {},
   "outputs": [],
   "source": [
    "def load_and_preprocess_data(path, col_names):\n",
    "\n",
    "    original_data=[]\n",
    "\n",
    "    with open (path) as data:\n",
    "        for line in data:\n",
    "            original_data.append(line)\n",
    "            \n",
    "    print('The original data contains ', len(original_data), ' lines.')\n",
    "    \n",
    "    lines = []\n",
    "\n",
    "    for line in original_data:\n",
    "        elements=line.strip().split('\\t')\n",
    "        lines.append(elements)\n",
    "    \n",
    "    df = pd.DataFrame(lines, columns = col_names)\n",
    "\n",
    "    # remove the 0-3 rows since they don't contain any data\n",
    "    df = df.iloc[4:].reset_index(drop=True)\n",
    "\n",
    "    return df"
   ]
  },
  {
   "cell_type": "code",
   "execution_count": 24,
   "metadata": {},
   "outputs": [],
   "source": [
    "pcl_cols = [\"par_id\", \"art_id\", \"keyword\", \"country_code\", \"text\", \"label\"]\n",
    "cat_cols = [\"par_id\", \"art_id\", \"text\", \"keyword\", \"country_code\", \"span_start\", \"span_finish\", \"span_text\", \"pcl_category\", \"number_of_annotators\"]"
   ]
  },
  {
   "cell_type": "code",
   "execution_count": 28,
   "metadata": {},
   "outputs": [
    {
     "name": "stdout",
     "output_type": "stream",
     "text": [
      "The original data contains  10473  lines.\n",
      "The original data contains  2764  lines.\n"
     ]
    }
   ],
   "source": [
    "pcl_df = load_and_preprocess_data(f\"{data_folder}/dontpatronizeme_pcl.tsv\", pcl_cols)\n",
    "cat_df = load_and_preprocess_data(f\"{data_folder}/dontpatronizeme_categories.tsv\", cat_cols)"
   ]
  },
  {
   "cell_type": "code",
   "execution_count": 29,
   "metadata": {},
   "outputs": [
    {
     "data": {
      "text/html": [
       "<div>\n",
       "<style scoped>\n",
       "    .dataframe tbody tr th:only-of-type {\n",
       "        vertical-align: middle;\n",
       "    }\n",
       "\n",
       "    .dataframe tbody tr th {\n",
       "        vertical-align: top;\n",
       "    }\n",
       "\n",
       "    .dataframe thead th {\n",
       "        text-align: right;\n",
       "    }\n",
       "</style>\n",
       "<table border=\"1\" class=\"dataframe\">\n",
       "  <thead>\n",
       "    <tr style=\"text-align: right;\">\n",
       "      <th></th>\n",
       "      <th>par_id</th>\n",
       "      <th>art_id</th>\n",
       "      <th>keyword</th>\n",
       "      <th>country_code</th>\n",
       "      <th>text</th>\n",
       "      <th>label</th>\n",
       "    </tr>\n",
       "  </thead>\n",
       "  <tbody>\n",
       "    <tr>\n",
       "      <th>0</th>\n",
       "      <td>1</td>\n",
       "      <td>@@24942188</td>\n",
       "      <td>hopeless</td>\n",
       "      <td>ph</td>\n",
       "      <td>We 're living in times of absolute insanity , ...</td>\n",
       "      <td>0</td>\n",
       "    </tr>\n",
       "    <tr>\n",
       "      <th>1</th>\n",
       "      <td>2</td>\n",
       "      <td>@@21968160</td>\n",
       "      <td>migrant</td>\n",
       "      <td>gh</td>\n",
       "      <td>In Libya today , there are countless number of...</td>\n",
       "      <td>0</td>\n",
       "    </tr>\n",
       "    <tr>\n",
       "      <th>2</th>\n",
       "      <td>3</td>\n",
       "      <td>@@16584954</td>\n",
       "      <td>immigrant</td>\n",
       "      <td>ie</td>\n",
       "      <td>\"White House press secretary Sean Spicer said ...</td>\n",
       "      <td>0</td>\n",
       "    </tr>\n",
       "    <tr>\n",
       "      <th>3</th>\n",
       "      <td>4</td>\n",
       "      <td>@@7811231</td>\n",
       "      <td>disabled</td>\n",
       "      <td>nz</td>\n",
       "      <td>Council customers only signs would be displaye...</td>\n",
       "      <td>0</td>\n",
       "    </tr>\n",
       "    <tr>\n",
       "      <th>4</th>\n",
       "      <td>5</td>\n",
       "      <td>@@1494111</td>\n",
       "      <td>refugee</td>\n",
       "      <td>ca</td>\n",
       "      <td>\"\"\" Just like we received migrants fleeing El ...</td>\n",
       "      <td>0</td>\n",
       "    </tr>\n",
       "    <tr>\n",
       "      <th>...</th>\n",
       "      <td>...</td>\n",
       "      <td>...</td>\n",
       "      <td>...</td>\n",
       "      <td>...</td>\n",
       "      <td>...</td>\n",
       "      <td>...</td>\n",
       "    </tr>\n",
       "    <tr>\n",
       "      <th>10464</th>\n",
       "      <td>10465</td>\n",
       "      <td>@@14297363</td>\n",
       "      <td>women</td>\n",
       "      <td>lk</td>\n",
       "      <td>\"Sri Lankan norms and culture inhibit women fr...</td>\n",
       "      <td>1</td>\n",
       "    </tr>\n",
       "    <tr>\n",
       "      <th>10465</th>\n",
       "      <td>10466</td>\n",
       "      <td>@@70091353</td>\n",
       "      <td>vulnerable</td>\n",
       "      <td>ph</td>\n",
       "      <td>He added that the AFP will continue to bank on...</td>\n",
       "      <td>0</td>\n",
       "    </tr>\n",
       "    <tr>\n",
       "      <th>10466</th>\n",
       "      <td>10467</td>\n",
       "      <td>@@20282330</td>\n",
       "      <td>in-need</td>\n",
       "      <td>ng</td>\n",
       "      <td>\"\"\" She has one huge platform , and informatio...</td>\n",
       "      <td>3</td>\n",
       "    </tr>\n",
       "    <tr>\n",
       "      <th>10467</th>\n",
       "      <td>10468</td>\n",
       "      <td>@@16753236</td>\n",
       "      <td>hopeless</td>\n",
       "      <td>in</td>\n",
       "      <td>\"\"\" Anja Ringgren Loven I ca n't find a word t...</td>\n",
       "      <td>4</td>\n",
       "    </tr>\n",
       "    <tr>\n",
       "      <th>10468</th>\n",
       "      <td>10469</td>\n",
       "      <td>@@16779383</td>\n",
       "      <td>homeless</td>\n",
       "      <td>ie</td>\n",
       "      <td>\"\"\" Guinness World Record of 540lbs of 7-layer...</td>\n",
       "      <td>3</td>\n",
       "    </tr>\n",
       "  </tbody>\n",
       "</table>\n",
       "<p>10469 rows × 6 columns</p>\n",
       "</div>"
      ],
      "text/plain": [
       "      par_id      art_id     keyword country_code  \\\n",
       "0          1  @@24942188    hopeless           ph   \n",
       "1          2  @@21968160     migrant           gh   \n",
       "2          3  @@16584954   immigrant           ie   \n",
       "3          4   @@7811231    disabled           nz   \n",
       "4          5   @@1494111     refugee           ca   \n",
       "...      ...         ...         ...          ...   \n",
       "10464  10465  @@14297363       women           lk   \n",
       "10465  10466  @@70091353  vulnerable           ph   \n",
       "10466  10467  @@20282330     in-need           ng   \n",
       "10467  10468  @@16753236    hopeless           in   \n",
       "10468  10469  @@16779383    homeless           ie   \n",
       "\n",
       "                                                    text label  \n",
       "0      We 're living in times of absolute insanity , ...     0  \n",
       "1      In Libya today , there are countless number of...     0  \n",
       "2      \"White House press secretary Sean Spicer said ...     0  \n",
       "3      Council customers only signs would be displaye...     0  \n",
       "4      \"\"\" Just like we received migrants fleeing El ...     0  \n",
       "...                                                  ...   ...  \n",
       "10464  \"Sri Lankan norms and culture inhibit women fr...     1  \n",
       "10465  He added that the AFP will continue to bank on...     0  \n",
       "10466  \"\"\" She has one huge platform , and informatio...     3  \n",
       "10467  \"\"\" Anja Ringgren Loven I ca n't find a word t...     4  \n",
       "10468  \"\"\" Guinness World Record of 540lbs of 7-layer...     3  \n",
       "\n",
       "[10469 rows x 6 columns]"
      ]
     },
     "execution_count": 29,
     "metadata": {},
     "output_type": "execute_result"
    }
   ],
   "source": [
    "pcl_df"
   ]
  },
  {
   "cell_type": "code",
   "execution_count": 46,
   "metadata": {},
   "outputs": [
    {
     "data": {
      "text/html": [
       "<div>\n",
       "<style scoped>\n",
       "    .dataframe tbody tr th:only-of-type {\n",
       "        vertical-align: middle;\n",
       "    }\n",
       "\n",
       "    .dataframe tbody tr th {\n",
       "        vertical-align: top;\n",
       "    }\n",
       "\n",
       "    .dataframe thead th {\n",
       "        text-align: right;\n",
       "    }\n",
       "</style>\n",
       "<table border=\"1\" class=\"dataframe\">\n",
       "  <thead>\n",
       "    <tr style=\"text-align: right;\">\n",
       "      <th></th>\n",
       "      <th>par_id</th>\n",
       "      <th>art_id</th>\n",
       "      <th>text</th>\n",
       "      <th>keyword</th>\n",
       "      <th>country_code</th>\n",
       "      <th>span_start</th>\n",
       "      <th>span_finish</th>\n",
       "      <th>span_text</th>\n",
       "      <th>pcl_category</th>\n",
       "      <th>number_of_annotators</th>\n",
       "    </tr>\n",
       "  </thead>\n",
       "  <tbody>\n",
       "    <tr>\n",
       "      <th>0</th>\n",
       "      <td>4046</td>\n",
       "      <td>@@14767805</td>\n",
       "      <td>We also know that they can benefit by receivin...</td>\n",
       "      <td>hopeless</td>\n",
       "      <td>us</td>\n",
       "      <td>201</td>\n",
       "      <td>236</td>\n",
       "      <td>put their situation in perspective</td>\n",
       "      <td>Authority_voice</td>\n",
       "      <td>2</td>\n",
       "    </tr>\n",
       "    <tr>\n",
       "      <th>1</th>\n",
       "      <td>4046</td>\n",
       "      <td>@@14767805</td>\n",
       "      <td>We also know that they can benefit by receivin...</td>\n",
       "      <td>hopeless</td>\n",
       "      <td>us</td>\n",
       "      <td>240</td>\n",
       "      <td>274</td>\n",
       "      <td>help them communicate with others</td>\n",
       "      <td>Unbalanced_power_relations</td>\n",
       "      <td>2</td>\n",
       "    </tr>\n",
       "    <tr>\n",
       "      <th>2</th>\n",
       "      <td>4046</td>\n",
       "      <td>@@14767805</td>\n",
       "      <td>We also know that they can benefit by receivin...</td>\n",
       "      <td>hopeless</td>\n",
       "      <td>us</td>\n",
       "      <td>274</td>\n",
       "      <td>300</td>\n",
       "      <td>who could provide support</td>\n",
       "      <td>Unbalanced_power_relations</td>\n",
       "      <td>1</td>\n",
       "    </tr>\n",
       "    <tr>\n",
       "      <th>3</th>\n",
       "      <td>4046</td>\n",
       "      <td>@@14767805</td>\n",
       "      <td>We also know that they can benefit by receivin...</td>\n",
       "      <td>hopeless</td>\n",
       "      <td>us</td>\n",
       "      <td>384</td>\n",
       "      <td>434</td>\n",
       "      <td>plan for their needs and the needs of their child</td>\n",
       "      <td>Authority_voice</td>\n",
       "      <td>2</td>\n",
       "    </tr>\n",
       "    <tr>\n",
       "      <th>4</th>\n",
       "      <td>4046</td>\n",
       "      <td>@@14767805</td>\n",
       "      <td>We also know that they can benefit by receivin...</td>\n",
       "      <td>hopeless</td>\n",
       "      <td>us</td>\n",
       "      <td>0</td>\n",
       "      <td>35</td>\n",
       "      <td>We also know that they can benefit</td>\n",
       "      <td>Unbalanced_power_relations</td>\n",
       "      <td>1</td>\n",
       "    </tr>\n",
       "    <tr>\n",
       "      <th>...</th>\n",
       "      <td>...</td>\n",
       "      <td>...</td>\n",
       "      <td>...</td>\n",
       "      <td>...</td>\n",
       "      <td>...</td>\n",
       "      <td>...</td>\n",
       "      <td>...</td>\n",
       "      <td>...</td>\n",
       "      <td>...</td>\n",
       "      <td>...</td>\n",
       "    </tr>\n",
       "    <tr>\n",
       "      <th>2755</th>\n",
       "      <td>10070</td>\n",
       "      <td>@@15573661</td>\n",
       "      <td>Fern ? ndez was a well-known philanthropist wh...</td>\n",
       "      <td>disabled</td>\n",
       "      <td>ng</td>\n",
       "      <td>0</td>\n",
       "      <td>210</td>\n",
       "      <td>Fern ? ndez was a well-known philanthropist wh...</td>\n",
       "      <td>Unbalanced_power_relations</td>\n",
       "      <td>1</td>\n",
       "    </tr>\n",
       "    <tr>\n",
       "      <th>2756</th>\n",
       "      <td>6484</td>\n",
       "      <td>@@2559173</td>\n",
       "      <td>Touched much by their plight , Commanding Offi...</td>\n",
       "      <td>homeless</td>\n",
       "      <td>lk</td>\n",
       "      <td>0</td>\n",
       "      <td>29</td>\n",
       "      <td>Touched much by their plight</td>\n",
       "      <td>Compassion</td>\n",
       "      <td>1</td>\n",
       "    </tr>\n",
       "    <tr>\n",
       "      <th>2757</th>\n",
       "      <td>6484</td>\n",
       "      <td>@@2559173</td>\n",
       "      <td>Touched much by their plight , Commanding Offi...</td>\n",
       "      <td>homeless</td>\n",
       "      <td>lk</td>\n",
       "      <td>31</td>\n",
       "      <td>315</td>\n",
       "      <td>Commanding Officer and all ranks of the 7 Sri ...</td>\n",
       "      <td>Unbalanced_power_relations</td>\n",
       "      <td>1</td>\n",
       "    </tr>\n",
       "    <tr>\n",
       "      <th>2758</th>\n",
       "      <td>6249</td>\n",
       "      <td>@@1947926</td>\n",
       "      <td>She reiterated her ministry 's commitment to p...</td>\n",
       "      <td>women</td>\n",
       "      <td>gh</td>\n",
       "      <td>153</td>\n",
       "      <td>205</td>\n",
       "      <td>gave a strong indication of hope for Ghanaian ...</td>\n",
       "      <td>Unbalanced_power_relations</td>\n",
       "      <td>1</td>\n",
       "    </tr>\n",
       "    <tr>\n",
       "      <th>2759</th>\n",
       "      <td>5149</td>\n",
       "      <td>@@1789214</td>\n",
       "      <td>Preaching the sermon , the Dean of the St. Pet...</td>\n",
       "      <td>vulnerable</td>\n",
       "      <td>gh</td>\n",
       "      <td>23</td>\n",
       "      <td>317</td>\n",
       "      <td>the Dean of the St. Peter 's Cathedral , Very ...</td>\n",
       "      <td>Authority_voice</td>\n",
       "      <td>1</td>\n",
       "    </tr>\n",
       "  </tbody>\n",
       "</table>\n",
       "<p>2760 rows × 10 columns</p>\n",
       "</div>"
      ],
      "text/plain": [
       "     par_id      art_id                                               text  \\\n",
       "0      4046  @@14767805  We also know that they can benefit by receivin...   \n",
       "1      4046  @@14767805  We also know that they can benefit by receivin...   \n",
       "2      4046  @@14767805  We also know that they can benefit by receivin...   \n",
       "3      4046  @@14767805  We also know that they can benefit by receivin...   \n",
       "4      4046  @@14767805  We also know that they can benefit by receivin...   \n",
       "...     ...         ...                                                ...   \n",
       "2755  10070  @@15573661  Fern ? ndez was a well-known philanthropist wh...   \n",
       "2756   6484   @@2559173  Touched much by their plight , Commanding Offi...   \n",
       "2757   6484   @@2559173  Touched much by their plight , Commanding Offi...   \n",
       "2758   6249   @@1947926  She reiterated her ministry 's commitment to p...   \n",
       "2759   5149   @@1789214  Preaching the sermon , the Dean of the St. Pet...   \n",
       "\n",
       "         keyword country_code span_start span_finish  \\\n",
       "0       hopeless           us        201         236   \n",
       "1       hopeless           us        240         274   \n",
       "2       hopeless           us        274         300   \n",
       "3       hopeless           us        384         434   \n",
       "4       hopeless           us          0          35   \n",
       "...          ...          ...        ...         ...   \n",
       "2755    disabled           ng          0         210   \n",
       "2756    homeless           lk          0          29   \n",
       "2757    homeless           lk         31         315   \n",
       "2758       women           gh        153         205   \n",
       "2759  vulnerable           gh         23         317   \n",
       "\n",
       "                                              span_text  \\\n",
       "0                    put their situation in perspective   \n",
       "1                     help them communicate with others   \n",
       "2                             who could provide support   \n",
       "3     plan for their needs and the needs of their child   \n",
       "4                    We also know that they can benefit   \n",
       "...                                                 ...   \n",
       "2755  Fern ? ndez was a well-known philanthropist wh...   \n",
       "2756                       Touched much by their plight   \n",
       "2757  Commanding Officer and all ranks of the 7 Sri ...   \n",
       "2758  gave a strong indication of hope for Ghanaian ...   \n",
       "2759  the Dean of the St. Peter 's Cathedral , Very ...   \n",
       "\n",
       "                    pcl_category number_of_annotators  \n",
       "0                Authority_voice                    2  \n",
       "1     Unbalanced_power_relations                    2  \n",
       "2     Unbalanced_power_relations                    1  \n",
       "3                Authority_voice                    2  \n",
       "4     Unbalanced_power_relations                    1  \n",
       "...                          ...                  ...  \n",
       "2755  Unbalanced_power_relations                    1  \n",
       "2756                  Compassion                    1  \n",
       "2757  Unbalanced_power_relations                    1  \n",
       "2758  Unbalanced_power_relations                    1  \n",
       "2759             Authority_voice                    1  \n",
       "\n",
       "[2760 rows x 10 columns]"
      ]
     },
     "execution_count": 46,
     "metadata": {},
     "output_type": "execute_result"
    }
   ],
   "source": [
    "cat_df"
   ]
  },
  {
   "cell_type": "code",
   "execution_count": 34,
   "metadata": {},
   "outputs": [
    {
     "data": {
      "text/plain": [
       "(2760, 10)"
      ]
     },
     "execution_count": 34,
     "metadata": {},
     "output_type": "execute_result"
    },
    {
     "data": {
      "text/plain": [
       "(10469, 6)"
      ]
     },
     "execution_count": 34,
     "metadata": {},
     "output_type": "execute_result"
    }
   ],
   "source": [
    "cat_df.shape\n",
    "pcl_df.shape"
   ]
  },
  {
   "cell_type": "code",
   "execution_count": 40,
   "metadata": {},
   "outputs": [
    {
     "data": {
      "text/plain": [
       "'We also know that they can benefit by receiving counseling from someone who can help them understand that their feelings are normal and that their situation is not hopeless ; someone who can help them put their situation in perspective and help them communicate with others who could provide support ; someone knowledgeable about resources they can access ; someone who can help them plan for their needs and the needs of their child by developing either a parenting plan or an adoption plan .'"
      ]
     },
     "execution_count": 40,
     "metadata": {},
     "output_type": "execute_result"
    }
   ],
   "source": [
    "pcl_df.iloc[4045, 4]"
   ]
  },
  {
   "cell_type": "code",
   "execution_count": 44,
   "metadata": {},
   "outputs": [
    {
     "data": {
      "text/plain": [
       "'We also know that they can benefit by receiving counseling from someone who can help them understand that their feelings are normal and that their situation is not hopeless ; someone who can help them put their situation in perspective and help them communicate with others who could provide support ; someone knowledgeable about resources they can access ; someone who can help them plan for their needs and the needs of their child by developing either a parenting plan or an adoption plan .'"
      ]
     },
     "execution_count": 44,
     "metadata": {},
     "output_type": "execute_result"
    }
   ],
   "source": [
    "cat_df.iloc[0, 2]"
   ]
  },
  {
   "attachments": {},
   "cell_type": "markdown",
   "metadata": {},
   "source": [
    "## Part 1"
   ]
  },
  {
   "attachments": {},
   "cell_type": "markdown",
   "metadata": {},
   "source": [
    "### Analysis of the class labels: how frequent these are and how they correlate with any feature of the data, e.g. input length."
   ]
  },
  {
   "cell_type": "code",
   "execution_count": null,
   "metadata": {},
   "outputs": [],
   "source": []
  },
  {
   "cell_type": "code",
   "execution_count": null,
   "metadata": {},
   "outputs": [],
   "source": []
  },
  {
   "cell_type": "markdown",
   "metadata": {},
   "source": []
  }
 ],
 "metadata": {
  "kernelspec": {
   "display_name": "nlp_venv",
   "language": "python",
   "name": "nlp_venv"
  },
  "language_info": {
   "codemirror_mode": {
    "name": "ipython",
    "version": 3
   },
   "file_extension": ".py",
   "mimetype": "text/x-python",
   "name": "python",
   "nbconvert_exporter": "python",
   "pygments_lexer": "ipython3",
   "version": "3.10.7"
  },
  "orig_nbformat": 4
 },
 "nbformat": 4,
 "nbformat_minor": 2
}
